{
 "cells": [
  {
   "cell_type": "markdown",
   "id": "cd9e2492-ca44-4ad1-8be3-f8af5957710f",
   "metadata": {},
   "source": [
    "#### Life cycle of Machine learning Project\n",
    "\n",
    "- Understanding the Problem Statement\n",
    "- Data Collection\n",
    "- Data Checks to perform\n",
    "- Exploratory data analysis\n",
    "- Data Pre-Processing\n",
    "- Model Training\n",
    "- Choose best model"
   ]
  },
  {
   "cell_type": "markdown",
   "id": "9f4f0e88-31ad-407c-ad45-2aab1be27012",
   "metadata": {},
   "source": [
    "### 1) Problem statement\n",
    "- This project understands how the student's performance (test scores) is affected by other variables such as Gender, Ethnicity, Parental level of education, Lunch and Test preparation course.\n",
    "\n",
    "\n",
    "### 2) Data Collection\n",
    "- Dataset Source - https://www.kaggle.com/datasets/blastchar/telco-customer-churn\n",
    "\n",
    "\n",
    "- Each row represents a customer, each column contains customer’s attributes described on the column Metadata.\n",
    "\n",
    "- The raw data contains 7043 rows (customers) and 21 columns (features).\n",
    "\n",
    "- The “Churn” column is our target.\n",
    "\n",
    "\n",
    "### 3) Data Content\n",
    "\n",
    "- Customers who left within the last month – the column is called Churn.\n",
    "\n",
    "\n",
    "- Services that each customer has signed up for i.e., phone, multiple lines, internet, online security, online backup, device protection, tech support, and streaming TV and movies.\n",
    "\n",
    "\n",
    "- Customer account information – how long they’ve been a customer, contract, payment method, paperless billing, monthly charges, and total charges.\n",
    "\n",
    "\n",
    "- Demographic info about customers – gender, age range, and if they have partners and dependents."
   ]
  },
  {
   "cell_type": "markdown",
   "id": "9d5f3892-667c-4254-b797-da322097a636",
   "metadata": {},
   "source": [
    "### 4) About Data\n",
    "\n",
    "- __customerID:__ Customer ID\n",
    "\n",
    "\n",
    "- ___Demograhic Information___\n",
    "\n",
    "- __Gender:__ Whether the customer is a male or a female\n",
    "- __SeniorCitizen:__ Whether the customer is a senior citizen or not (1, 0)\n",
    "- __Partner:__ Whether the customer has a partner or not (Yes, No)\n",
    "- __Dependents:__ Whether the customer has dependents or not (Yes, No)\n",
    "\n",
    "\n",
    "- ___Service Information___\n",
    "\n",
    "- __PhoneService:__ Whether the customer has a phone service or not (Yes, No)\n",
    "- __MultipleLines:__ Whether the customer has multiple lines or not (Yes, No, No phone service)\n",
    "- __InternetService:__ Customer’s internet service provider (DSL, Fiber optic, No)\n",
    "- __OnlineSecurity:__ Whether the customer has online security or not (Yes, No, No internet service)\n",
    "- __OnlineBackup:__ Whether the customer has online backup or not (Yes, No, No internet service)\n",
    "- __DeviceProtection:__ Whether the customer has device protection or not (Yes, No, No internet service)\n",
    "- __TechSupport:__ Whether the customer has tech support or not (Yes, No, No internet service)\n",
    "- __StreamingTV:__ Whether the customer has streaming TV or not (Yes, No, No internet service)\n",
    "- __StreamingMovies:__ Whether the customer has streaming movies or not (Yes, No, No internet service)\n",
    "\n",
    "\n",
    "- ___Customer account information___\n",
    "\n",
    "- __Contract:__ The contract term of the customer (Month-to-month, One year, Two year)\n",
    "- __PaperlessBilling:__ Whether the customer has paperless billing or not (Yes, No)\n",
    "- __PaymentMethod:__ The customer’s payment method (Electronic check, Mailed check, Bank transfer (automatic), Credit card (automatic))\n",
    "- __MonthlyCharges:__ The amount charged to the customer monthly\n",
    "- __TotalCharges:__ The total amount charged to the customer\n",
    "- __Tenure:__ Number of months the customer has stayed with the company"
   ]
  },
  {
   "cell_type": "markdown",
   "id": "a0b894e1-80b2-430c-aaa2-9000f3138735",
   "metadata": {},
   "source": [
    "### 2.1 Import Data and Required Packages\n",
    "####  Importing Pandas, Numpy, Matplotlib, Seaborn and Warings Library."
   ]
  },
  {
   "cell_type": "markdown",
   "id": "01cfacc7-eeb1-4653-8562-65cfdd0b90ac",
   "metadata": {},
   "source": [
    "#### Import the CSV Data as Pandas DataFrame"
   ]
  },
  {
   "cell_type": "code",
   "execution_count": 88,
   "id": "f71d0a36-fadc-4d57-add7-227e55a1da47",
   "metadata": {
    "tags": []
   },
   "outputs": [],
   "source": [
    "import numpy as np\n",
    "import pandas as pd\n",
    "import seaborn as sns\n",
    "import matplotlib.pyplot as plt\n",
    "%matplotlib inline\n",
    "import warnings\n",
    "warnings.filterwarnings('ignore')"
   ]
  },
  {
   "cell_type": "code",
   "execution_count": 89,
   "id": "bbb62eeb-09e8-4660-9dcf-970f0f3236dd",
   "metadata": {
    "tags": []
   },
   "outputs": [],
   "source": [
    "#!pip install scikit-learn"
   ]
  },
  {
   "cell_type": "code",
   "execution_count": 90,
   "id": "43a2b230-8d18-452a-ab3d-a61c93620674",
   "metadata": {
    "tags": []
   },
   "outputs": [
    {
     "data": {
      "text/html": [
       "        <script type=\"text/javascript\">\n",
       "        window.PlotlyConfig = {MathJaxConfig: 'local'};\n",
       "        if (window.MathJax && window.MathJax.Hub && window.MathJax.Hub.Config) {window.MathJax.Hub.Config({SVG: {font: \"STIX-Web\"}});}\n",
       "        if (typeof require !== 'undefined') {\n",
       "        require.undef(\"plotly\");\n",
       "        requirejs.config({\n",
       "            paths: {\n",
       "                'plotly': ['https://cdn.plot.ly/plotly-2.12.1.min']\n",
       "            }\n",
       "        });\n",
       "        require(['plotly'], function(Plotly) {\n",
       "            window._Plotly = Plotly;\n",
       "        });\n",
       "        }\n",
       "        </script>\n",
       "        "
      ]
     },
     "metadata": {},
     "output_type": "display_data"
    }
   ],
   "source": [
    "\"\"\"Import basic modules\"\"\"\n",
    "import math\n",
    "import os\n",
    "import gc\n",
    "import random\n",
    "import pprint\n",
    "import numpy as np               # For linear algebra\n",
    "import pandas as pd              # For data manipulation\n",
    "import matplotlib.pyplot as plt  # For 2D visualization\n",
    "import seaborn as sns\n",
    "\n",
    "# Warning Libraries \n",
    "import warnings\n",
    "warnings.filterwarnings(\"ignore\")\n",
    "# warnings.simplefilter(action='ignore', category=FutureWarning)\n",
    "\n",
    "from collections import Counter\n",
    "from scipy import stats                         # For statistics\n",
    "from scipy.stats.contingency import association # upgrade scipy to use this to calculate Cramer's V\n",
    "\n",
    "\"\"\"Plotly visualization\"\"\"\n",
    "import plotly.graph_objs as go\n",
    "import plotly.express as px\n",
    "import plotly.io as pio\n",
    "import plotly.offline as pyo\n",
    "from plotly.subplots import make_subplots\n",
    "from plotly.offline import init_notebook_mode, iplot\n",
    "  \n",
    "\n",
    "\"\"\"scikit-learn modules\"\"\"\n",
    "from sklearn.preprocessing import OrdinalEncoder, LabelEncoder\n",
    "from sklearn.preprocessing import PowerTransformer # convert to Gaussian-like data\n",
    "from sklearn.feature_selection import chi2\n",
    "from sklearn.metrics import matthews_corrcoef\n",
    "\n",
    "import multiprocessing\n",
    "import pickle, joblib\n",
    "\n",
    "\n",
    "from IPython.display import Markdown, display\n",
    "\n",
    "# utility function to print markdown string\n",
    "def printmd(string):\n",
    "    display(Markdown(string))\n",
    "\n",
    "\n",
    "sns.set_style('whitegrid')\n",
    "\n",
    "init_notebook_mode(connected=True) # to display plotly graph offline\n",
    "\n",
    "%matplotlib inline"
   ]
  },
  {
   "cell_type": "code",
   "execution_count": 91,
   "id": "96becd96-8ee0-4f37-a6ba-fb970a027844",
   "metadata": {},
   "outputs": [],
   "source": [
    "# customize as needed\n",
    "plt_params = {\n",
    "    # 'figure.facecolor': 'white',\n",
    "    'axes.facecolor' : 'white',\n",
    "\n",
    "    ## to set size \n",
    "    # 'legend.fontsize': 'x-large',\n",
    "    # 'figure.figsize': (15, 10),\n",
    "    # 'axes.labelsize': 'x-large',\n",
    "    # 'axes.titlesize': 'x-large',\n",
    "    # 'xtick.labelsize': 'x-large',\n",
    "    # 'ytick.labelsize': 'x-large'\n",
    "}\n",
    "\n",
    "plt.rcParams.update(plt_params)"
   ]
  },
  {
   "cell_type": "code",
   "execution_count": 92,
   "id": "58294332-023f-40c2-9cd4-6e4aa211281b",
   "metadata": {},
   "outputs": [],
   "source": [
    "# padding value to print left padded string\n",
    "left_padding = 21\n",
    "\n",
    "# seed value\n",
    "SEED = 42\n",
    "\n",
    "def seed_everything(seed=42):\n",
    "    random.seed(seed)\n",
    "    os.environ['PYTHONHASHSEED'] = str(seed)\n",
    "    np.random.seed(seed)\n",
    "\n",
    "seed_everything(SEED)"
   ]
  },
  {
   "cell_type": "markdown",
   "id": "fbb76f9b-7420-4ca9-984d-8826129c3f4b",
   "metadata": {},
   "source": [
    "#### Import the CSV Data as Pandas DataFrame"
   ]
  },
  {
   "cell_type": "code",
   "execution_count": 93,
   "id": "c100d0f5-8ec1-49b5-949f-b8de3e8be27c",
   "metadata": {
    "tags": []
   },
   "outputs": [],
   "source": [
    "df = pd.read_csv('F:\\ML END TO END PROJECT\\customer_data.csv')"
   ]
  },
  {
   "cell_type": "code",
   "execution_count": 94,
   "id": "cccb1e6c-449d-4df1-ab24-e6205358892c",
   "metadata": {
    "tags": []
   },
   "outputs": [
    {
     "data": {
      "text/html": [
       "<div>\n",
       "<style scoped>\n",
       "    .dataframe tbody tr th:only-of-type {\n",
       "        vertical-align: middle;\n",
       "    }\n",
       "\n",
       "    .dataframe tbody tr th {\n",
       "        vertical-align: top;\n",
       "    }\n",
       "\n",
       "    .dataframe thead th {\n",
       "        text-align: right;\n",
       "    }\n",
       "</style>\n",
       "<table border=\"1\" class=\"dataframe\">\n",
       "  <thead>\n",
       "    <tr style=\"text-align: right;\">\n",
       "      <th></th>\n",
       "      <th>customerID</th>\n",
       "      <th>gender</th>\n",
       "      <th>SeniorCitizen</th>\n",
       "      <th>Partner</th>\n",
       "      <th>Dependents</th>\n",
       "      <th>tenure</th>\n",
       "      <th>PhoneService</th>\n",
       "      <th>MultipleLines</th>\n",
       "      <th>InternetService</th>\n",
       "      <th>OnlineSecurity</th>\n",
       "      <th>...</th>\n",
       "      <th>DeviceProtection</th>\n",
       "      <th>TechSupport</th>\n",
       "      <th>StreamingTV</th>\n",
       "      <th>StreamingMovies</th>\n",
       "      <th>Contract</th>\n",
       "      <th>PaperlessBilling</th>\n",
       "      <th>PaymentMethod</th>\n",
       "      <th>MonthlyCharges</th>\n",
       "      <th>TotalCharges</th>\n",
       "      <th>Churn</th>\n",
       "    </tr>\n",
       "  </thead>\n",
       "  <tbody>\n",
       "    <tr>\n",
       "      <th>0</th>\n",
       "      <td>7590-VHVEG</td>\n",
       "      <td>Female</td>\n",
       "      <td>0</td>\n",
       "      <td>Yes</td>\n",
       "      <td>No</td>\n",
       "      <td>1</td>\n",
       "      <td>No</td>\n",
       "      <td>No phone service</td>\n",
       "      <td>DSL</td>\n",
       "      <td>No</td>\n",
       "      <td>...</td>\n",
       "      <td>No</td>\n",
       "      <td>No</td>\n",
       "      <td>No</td>\n",
       "      <td>No</td>\n",
       "      <td>Month-to-month</td>\n",
       "      <td>Yes</td>\n",
       "      <td>Electronic check</td>\n",
       "      <td>29.85</td>\n",
       "      <td>29.85</td>\n",
       "      <td>No</td>\n",
       "    </tr>\n",
       "    <tr>\n",
       "      <th>1</th>\n",
       "      <td>5575-GNVDE</td>\n",
       "      <td>Male</td>\n",
       "      <td>0</td>\n",
       "      <td>No</td>\n",
       "      <td>No</td>\n",
       "      <td>34</td>\n",
       "      <td>Yes</td>\n",
       "      <td>No</td>\n",
       "      <td>DSL</td>\n",
       "      <td>Yes</td>\n",
       "      <td>...</td>\n",
       "      <td>Yes</td>\n",
       "      <td>No</td>\n",
       "      <td>No</td>\n",
       "      <td>No</td>\n",
       "      <td>One year</td>\n",
       "      <td>No</td>\n",
       "      <td>Mailed check</td>\n",
       "      <td>56.95</td>\n",
       "      <td>1889.5</td>\n",
       "      <td>No</td>\n",
       "    </tr>\n",
       "    <tr>\n",
       "      <th>2</th>\n",
       "      <td>3668-QPYBK</td>\n",
       "      <td>Male</td>\n",
       "      <td>0</td>\n",
       "      <td>No</td>\n",
       "      <td>No</td>\n",
       "      <td>2</td>\n",
       "      <td>Yes</td>\n",
       "      <td>No</td>\n",
       "      <td>DSL</td>\n",
       "      <td>Yes</td>\n",
       "      <td>...</td>\n",
       "      <td>No</td>\n",
       "      <td>No</td>\n",
       "      <td>No</td>\n",
       "      <td>No</td>\n",
       "      <td>Month-to-month</td>\n",
       "      <td>Yes</td>\n",
       "      <td>Mailed check</td>\n",
       "      <td>53.85</td>\n",
       "      <td>108.15</td>\n",
       "      <td>Yes</td>\n",
       "    </tr>\n",
       "    <tr>\n",
       "      <th>3</th>\n",
       "      <td>7795-CFOCW</td>\n",
       "      <td>Male</td>\n",
       "      <td>0</td>\n",
       "      <td>No</td>\n",
       "      <td>No</td>\n",
       "      <td>45</td>\n",
       "      <td>No</td>\n",
       "      <td>No phone service</td>\n",
       "      <td>DSL</td>\n",
       "      <td>Yes</td>\n",
       "      <td>...</td>\n",
       "      <td>Yes</td>\n",
       "      <td>Yes</td>\n",
       "      <td>No</td>\n",
       "      <td>No</td>\n",
       "      <td>One year</td>\n",
       "      <td>No</td>\n",
       "      <td>Bank transfer (automatic)</td>\n",
       "      <td>42.30</td>\n",
       "      <td>1840.75</td>\n",
       "      <td>No</td>\n",
       "    </tr>\n",
       "    <tr>\n",
       "      <th>4</th>\n",
       "      <td>9237-HQITU</td>\n",
       "      <td>Female</td>\n",
       "      <td>0</td>\n",
       "      <td>No</td>\n",
       "      <td>No</td>\n",
       "      <td>2</td>\n",
       "      <td>Yes</td>\n",
       "      <td>No</td>\n",
       "      <td>Fiber optic</td>\n",
       "      <td>No</td>\n",
       "      <td>...</td>\n",
       "      <td>No</td>\n",
       "      <td>No</td>\n",
       "      <td>No</td>\n",
       "      <td>No</td>\n",
       "      <td>Month-to-month</td>\n",
       "      <td>Yes</td>\n",
       "      <td>Electronic check</td>\n",
       "      <td>70.70</td>\n",
       "      <td>151.65</td>\n",
       "      <td>Yes</td>\n",
       "    </tr>\n",
       "  </tbody>\n",
       "</table>\n",
       "<p>5 rows × 21 columns</p>\n",
       "</div>"
      ],
      "text/plain": [
       "   customerID  gender  SeniorCitizen Partner Dependents  tenure PhoneService  \\\n",
       "0  7590-VHVEG  Female              0     Yes         No       1           No   \n",
       "1  5575-GNVDE    Male              0      No         No      34          Yes   \n",
       "2  3668-QPYBK    Male              0      No         No       2          Yes   \n",
       "3  7795-CFOCW    Male              0      No         No      45           No   \n",
       "4  9237-HQITU  Female              0      No         No       2          Yes   \n",
       "\n",
       "      MultipleLines InternetService OnlineSecurity  ... DeviceProtection  \\\n",
       "0  No phone service             DSL             No  ...               No   \n",
       "1                No             DSL            Yes  ...              Yes   \n",
       "2                No             DSL            Yes  ...               No   \n",
       "3  No phone service             DSL            Yes  ...              Yes   \n",
       "4                No     Fiber optic             No  ...               No   \n",
       "\n",
       "  TechSupport StreamingTV StreamingMovies        Contract PaperlessBilling  \\\n",
       "0          No          No              No  Month-to-month              Yes   \n",
       "1          No          No              No        One year               No   \n",
       "2          No          No              No  Month-to-month              Yes   \n",
       "3         Yes          No              No        One year               No   \n",
       "4          No          No              No  Month-to-month              Yes   \n",
       "\n",
       "               PaymentMethod MonthlyCharges  TotalCharges Churn  \n",
       "0           Electronic check          29.85         29.85    No  \n",
       "1               Mailed check          56.95        1889.5    No  \n",
       "2               Mailed check          53.85        108.15   Yes  \n",
       "3  Bank transfer (automatic)          42.30       1840.75    No  \n",
       "4           Electronic check          70.70        151.65   Yes  \n",
       "\n",
       "[5 rows x 21 columns]"
      ]
     },
     "execution_count": 94,
     "metadata": {},
     "output_type": "execute_result"
    }
   ],
   "source": [
    "df.head()"
   ]
  },
  {
   "cell_type": "markdown",
   "id": "2feb7770-75be-4819-84f0-550f7acecaf5",
   "metadata": {},
   "source": [
    "### 3) EXPLORATORY DATA ANALYSIS"
   ]
  },
  {
   "cell_type": "code",
   "execution_count": 95,
   "id": "28acec91-9a94-4907-a791-8aaf5f07a470",
   "metadata": {
    "tags": []
   },
   "outputs": [],
   "source": [
    "def check_df(dataframe, head=5):\n",
    "    print(\"######### SHAPE #######\")\n",
    "    print(dataframe.shape)\n",
    "    \n",
    "    print(\"######### DATA TYPES #######\")\n",
    "    print(dataframe.dtypes)\n",
    "    \n",
    "    print(\"######### N/A ##########\")\n",
    "    print(dataframe.isnull().sum())\n",
    "    \n",
    "    print(\"###### QUARTILES ######\")\n",
    "    print(dataframe.quantile([0.25, 0.50, 0.75]).T)\n",
    "    \n",
    "    print(\"##### NUMBER OF UNIQUE VALUES #####\")\n",
    "    print(dataframe.nunique())"
   ]
  },
  {
   "cell_type": "code",
   "execution_count": 96,
   "id": "2d1cfba2-453c-4f93-8ae6-722daf4dca4e",
   "metadata": {
    "tags": []
   },
   "outputs": [
    {
     "name": "stdout",
     "output_type": "stream",
     "text": [
      "######### SHAPE #######\n",
      "(7043, 21)\n",
      "######### DATA TYPES #######\n",
      "customerID           object\n",
      "gender               object\n",
      "SeniorCitizen         int64\n",
      "Partner              object\n",
      "Dependents           object\n",
      "tenure                int64\n",
      "PhoneService         object\n",
      "MultipleLines        object\n",
      "InternetService      object\n",
      "OnlineSecurity       object\n",
      "OnlineBackup         object\n",
      "DeviceProtection     object\n",
      "TechSupport          object\n",
      "StreamingTV          object\n",
      "StreamingMovies      object\n",
      "Contract             object\n",
      "PaperlessBilling     object\n",
      "PaymentMethod        object\n",
      "MonthlyCharges      float64\n",
      "TotalCharges         object\n",
      "Churn                object\n",
      "dtype: object\n",
      "######### N/A ##########\n",
      "customerID          0\n",
      "gender              0\n",
      "SeniorCitizen       0\n",
      "Partner             0\n",
      "Dependents          0\n",
      "tenure              0\n",
      "PhoneService        0\n",
      "MultipleLines       0\n",
      "InternetService     0\n",
      "OnlineSecurity      0\n",
      "OnlineBackup        0\n",
      "DeviceProtection    0\n",
      "TechSupport         0\n",
      "StreamingTV         0\n",
      "StreamingMovies     0\n",
      "Contract            0\n",
      "PaperlessBilling    0\n",
      "PaymentMethod       0\n",
      "MonthlyCharges      0\n",
      "TotalCharges        0\n",
      "Churn               0\n",
      "dtype: int64\n",
      "###### QUARTILES ######\n",
      "                0.25   0.50   0.75\n",
      "SeniorCitizen    0.0   0.00   0.00\n",
      "tenure           9.0  29.00  55.00\n",
      "MonthlyCharges  35.5  70.35  89.85\n",
      "##### NUMBER OF UNIQUE VALUES #####\n",
      "customerID          7043\n",
      "gender                 2\n",
      "SeniorCitizen          2\n",
      "Partner                2\n",
      "Dependents             2\n",
      "tenure                73\n",
      "PhoneService           2\n",
      "MultipleLines          3\n",
      "InternetService        3\n",
      "OnlineSecurity         3\n",
      "OnlineBackup           3\n",
      "DeviceProtection       3\n",
      "TechSupport            3\n",
      "StreamingTV            3\n",
      "StreamingMovies        3\n",
      "Contract               3\n",
      "PaperlessBilling       2\n",
      "PaymentMethod          4\n",
      "MonthlyCharges      1585\n",
      "TotalCharges        6531\n",
      "Churn                  2\n",
      "dtype: int64\n"
     ]
    }
   ],
   "source": [
    "check_df(df)"
   ]
  },
  {
   "cell_type": "code",
   "execution_count": 97,
   "id": "46b8e90e-33f8-4a15-adb1-84794ffcf027",
   "metadata": {
    "tags": []
   },
   "outputs": [],
   "source": [
    "# Change total charges type object to numeric\n",
    "df['TotalCharges'] = pd.to_numeric(df['TotalCharges'],errors='coerce')"
   ]
  },
  {
   "cell_type": "code",
   "execution_count": 98,
   "id": "7bed14a3-5a6a-4692-97a2-5b38accd85a5",
   "metadata": {
    "tags": []
   },
   "outputs": [],
   "source": [
    "# We need 1 and 0 instead of yes and no\n",
    "df[\"Churn\"] = df[\"Churn\"].apply(lambda x : 1 if x == \"Yes\" else 0)"
   ]
  },
  {
   "cell_type": "code",
   "execution_count": 99,
   "id": "a602304f-76f9-4357-92c1-6b4d7dea4718",
   "metadata": {
    "tags": []
   },
   "outputs": [],
   "source": [
    "df.dropna(inplace=True)"
   ]
  },
  {
   "cell_type": "code",
   "execution_count": 100,
   "id": "f4692f30-46b1-4993-a6fd-8460a7f2c506",
   "metadata": {
    "tags": []
   },
   "outputs": [
    {
     "name": "stdout",
     "output_type": "stream",
     "text": [
      "<class 'pandas.core.frame.DataFrame'>\n",
      "Int64Index: 7032 entries, 0 to 7042\n",
      "Data columns (total 21 columns):\n",
      " #   Column            Non-Null Count  Dtype  \n",
      "---  ------            --------------  -----  \n",
      " 0   customerID        7032 non-null   object \n",
      " 1   gender            7032 non-null   object \n",
      " 2   SeniorCitizen     7032 non-null   int64  \n",
      " 3   Partner           7032 non-null   object \n",
      " 4   Dependents        7032 non-null   object \n",
      " 5   tenure            7032 non-null   int64  \n",
      " 6   PhoneService      7032 non-null   object \n",
      " 7   MultipleLines     7032 non-null   object \n",
      " 8   InternetService   7032 non-null   object \n",
      " 9   OnlineSecurity    7032 non-null   object \n",
      " 10  OnlineBackup      7032 non-null   object \n",
      " 11  DeviceProtection  7032 non-null   object \n",
      " 12  TechSupport       7032 non-null   object \n",
      " 13  StreamingTV       7032 non-null   object \n",
      " 14  StreamingMovies   7032 non-null   object \n",
      " 15  Contract          7032 non-null   object \n",
      " 16  PaperlessBilling  7032 non-null   object \n",
      " 17  PaymentMethod     7032 non-null   object \n",
      " 18  MonthlyCharges    7032 non-null   float64\n",
      " 19  TotalCharges      7032 non-null   float64\n",
      " 20  Churn             7032 non-null   int64  \n",
      "dtypes: float64(2), int64(3), object(16)\n",
      "memory usage: 1.2+ MB\n"
     ]
    }
   ],
   "source": [
    "df.info()"
   ]
  },
  {
   "cell_type": "code",
   "execution_count": 101,
   "id": "2f02739c-4ecd-4625-809f-d5dd5064445f",
   "metadata": {
    "tags": []
   },
   "outputs": [
    {
     "data": {
      "text/html": [
       "<div>\n",
       "<style scoped>\n",
       "    .dataframe tbody tr th:only-of-type {\n",
       "        vertical-align: middle;\n",
       "    }\n",
       "\n",
       "    .dataframe tbody tr th {\n",
       "        vertical-align: top;\n",
       "    }\n",
       "\n",
       "    .dataframe thead th {\n",
       "        text-align: right;\n",
       "    }\n",
       "</style>\n",
       "<table border=\"1\" class=\"dataframe\">\n",
       "  <thead>\n",
       "    <tr style=\"text-align: right;\">\n",
       "      <th></th>\n",
       "      <th>count</th>\n",
       "      <th>mean</th>\n",
       "      <th>std</th>\n",
       "      <th>min</th>\n",
       "      <th>25%</th>\n",
       "      <th>50%</th>\n",
       "      <th>75%</th>\n",
       "      <th>max</th>\n",
       "    </tr>\n",
       "  </thead>\n",
       "  <tbody>\n",
       "    <tr>\n",
       "      <th>SeniorCitizen</th>\n",
       "      <td>7032.0</td>\n",
       "      <td>0.162400</td>\n",
       "      <td>0.368844</td>\n",
       "      <td>0.00</td>\n",
       "      <td>0.0000</td>\n",
       "      <td>0.000</td>\n",
       "      <td>0.0000</td>\n",
       "      <td>1.00</td>\n",
       "    </tr>\n",
       "    <tr>\n",
       "      <th>tenure</th>\n",
       "      <td>7032.0</td>\n",
       "      <td>32.421786</td>\n",
       "      <td>24.545260</td>\n",
       "      <td>1.00</td>\n",
       "      <td>9.0000</td>\n",
       "      <td>29.000</td>\n",
       "      <td>55.0000</td>\n",
       "      <td>72.00</td>\n",
       "    </tr>\n",
       "    <tr>\n",
       "      <th>MonthlyCharges</th>\n",
       "      <td>7032.0</td>\n",
       "      <td>64.798208</td>\n",
       "      <td>30.085974</td>\n",
       "      <td>18.25</td>\n",
       "      <td>35.5875</td>\n",
       "      <td>70.350</td>\n",
       "      <td>89.8625</td>\n",
       "      <td>118.75</td>\n",
       "    </tr>\n",
       "    <tr>\n",
       "      <th>TotalCharges</th>\n",
       "      <td>7032.0</td>\n",
       "      <td>2283.300441</td>\n",
       "      <td>2266.771362</td>\n",
       "      <td>18.80</td>\n",
       "      <td>401.4500</td>\n",
       "      <td>1397.475</td>\n",
       "      <td>3794.7375</td>\n",
       "      <td>8684.80</td>\n",
       "    </tr>\n",
       "    <tr>\n",
       "      <th>Churn</th>\n",
       "      <td>7032.0</td>\n",
       "      <td>0.265785</td>\n",
       "      <td>0.441782</td>\n",
       "      <td>0.00</td>\n",
       "      <td>0.0000</td>\n",
       "      <td>0.000</td>\n",
       "      <td>1.0000</td>\n",
       "      <td>1.00</td>\n",
       "    </tr>\n",
       "  </tbody>\n",
       "</table>\n",
       "</div>"
      ],
      "text/plain": [
       "                 count         mean          std    min       25%       50%  \\\n",
       "SeniorCitizen   7032.0     0.162400     0.368844   0.00    0.0000     0.000   \n",
       "tenure          7032.0    32.421786    24.545260   1.00    9.0000    29.000   \n",
       "MonthlyCharges  7032.0    64.798208    30.085974  18.25   35.5875    70.350   \n",
       "TotalCharges    7032.0  2283.300441  2266.771362  18.80  401.4500  1397.475   \n",
       "Churn           7032.0     0.265785     0.441782   0.00    0.0000     0.000   \n",
       "\n",
       "                      75%      max  \n",
       "SeniorCitizen      0.0000     1.00  \n",
       "tenure            55.0000    72.00  \n",
       "MonthlyCharges    89.8625   118.75  \n",
       "TotalCharges    3794.7375  8684.80  \n",
       "Churn              1.0000     1.00  "
      ]
     },
     "execution_count": 101,
     "metadata": {},
     "output_type": "execute_result"
    }
   ],
   "source": [
    "df.describe().T"
   ]
  },
  {
   "cell_type": "code",
   "execution_count": 102,
   "id": "986a0141-6258-4957-b427-d5d2cffbeb53",
   "metadata": {
    "tags": []
   },
   "outputs": [
    {
     "data": {
      "text/html": [
       "<div>\n",
       "<style scoped>\n",
       "    .dataframe tbody tr th:only-of-type {\n",
       "        vertical-align: middle;\n",
       "    }\n",
       "\n",
       "    .dataframe tbody tr th {\n",
       "        vertical-align: top;\n",
       "    }\n",
       "\n",
       "    .dataframe thead th {\n",
       "        text-align: right;\n",
       "    }\n",
       "</style>\n",
       "<table border=\"1\" class=\"dataframe\">\n",
       "  <thead>\n",
       "    <tr style=\"text-align: right;\">\n",
       "      <th></th>\n",
       "      <th>count</th>\n",
       "      <th>unique</th>\n",
       "      <th>top</th>\n",
       "      <th>freq</th>\n",
       "    </tr>\n",
       "  </thead>\n",
       "  <tbody>\n",
       "    <tr>\n",
       "      <th>customerID</th>\n",
       "      <td>7032</td>\n",
       "      <td>7032</td>\n",
       "      <td>7590-VHVEG</td>\n",
       "      <td>1</td>\n",
       "    </tr>\n",
       "    <tr>\n",
       "      <th>gender</th>\n",
       "      <td>7032</td>\n",
       "      <td>2</td>\n",
       "      <td>Male</td>\n",
       "      <td>3549</td>\n",
       "    </tr>\n",
       "    <tr>\n",
       "      <th>Partner</th>\n",
       "      <td>7032</td>\n",
       "      <td>2</td>\n",
       "      <td>No</td>\n",
       "      <td>3639</td>\n",
       "    </tr>\n",
       "    <tr>\n",
       "      <th>Dependents</th>\n",
       "      <td>7032</td>\n",
       "      <td>2</td>\n",
       "      <td>No</td>\n",
       "      <td>4933</td>\n",
       "    </tr>\n",
       "    <tr>\n",
       "      <th>PhoneService</th>\n",
       "      <td>7032</td>\n",
       "      <td>2</td>\n",
       "      <td>Yes</td>\n",
       "      <td>6352</td>\n",
       "    </tr>\n",
       "    <tr>\n",
       "      <th>MultipleLines</th>\n",
       "      <td>7032</td>\n",
       "      <td>3</td>\n",
       "      <td>No</td>\n",
       "      <td>3385</td>\n",
       "    </tr>\n",
       "    <tr>\n",
       "      <th>InternetService</th>\n",
       "      <td>7032</td>\n",
       "      <td>3</td>\n",
       "      <td>Fiber optic</td>\n",
       "      <td>3096</td>\n",
       "    </tr>\n",
       "    <tr>\n",
       "      <th>OnlineSecurity</th>\n",
       "      <td>7032</td>\n",
       "      <td>3</td>\n",
       "      <td>No</td>\n",
       "      <td>3497</td>\n",
       "    </tr>\n",
       "    <tr>\n",
       "      <th>OnlineBackup</th>\n",
       "      <td>7032</td>\n",
       "      <td>3</td>\n",
       "      <td>No</td>\n",
       "      <td>3087</td>\n",
       "    </tr>\n",
       "    <tr>\n",
       "      <th>DeviceProtection</th>\n",
       "      <td>7032</td>\n",
       "      <td>3</td>\n",
       "      <td>No</td>\n",
       "      <td>3094</td>\n",
       "    </tr>\n",
       "    <tr>\n",
       "      <th>TechSupport</th>\n",
       "      <td>7032</td>\n",
       "      <td>3</td>\n",
       "      <td>No</td>\n",
       "      <td>3472</td>\n",
       "    </tr>\n",
       "    <tr>\n",
       "      <th>StreamingTV</th>\n",
       "      <td>7032</td>\n",
       "      <td>3</td>\n",
       "      <td>No</td>\n",
       "      <td>2809</td>\n",
       "    </tr>\n",
       "    <tr>\n",
       "      <th>StreamingMovies</th>\n",
       "      <td>7032</td>\n",
       "      <td>3</td>\n",
       "      <td>No</td>\n",
       "      <td>2781</td>\n",
       "    </tr>\n",
       "    <tr>\n",
       "      <th>Contract</th>\n",
       "      <td>7032</td>\n",
       "      <td>3</td>\n",
       "      <td>Month-to-month</td>\n",
       "      <td>3875</td>\n",
       "    </tr>\n",
       "    <tr>\n",
       "      <th>PaperlessBilling</th>\n",
       "      <td>7032</td>\n",
       "      <td>2</td>\n",
       "      <td>Yes</td>\n",
       "      <td>4168</td>\n",
       "    </tr>\n",
       "    <tr>\n",
       "      <th>PaymentMethod</th>\n",
       "      <td>7032</td>\n",
       "      <td>4</td>\n",
       "      <td>Electronic check</td>\n",
       "      <td>2365</td>\n",
       "    </tr>\n",
       "  </tbody>\n",
       "</table>\n",
       "</div>"
      ],
      "text/plain": [
       "                 count unique               top  freq\n",
       "customerID        7032   7032        7590-VHVEG     1\n",
       "gender            7032      2              Male  3549\n",
       "Partner           7032      2                No  3639\n",
       "Dependents        7032      2                No  4933\n",
       "PhoneService      7032      2               Yes  6352\n",
       "MultipleLines     7032      3                No  3385\n",
       "InternetService   7032      3       Fiber optic  3096\n",
       "OnlineSecurity    7032      3                No  3497\n",
       "OnlineBackup      7032      3                No  3087\n",
       "DeviceProtection  7032      3                No  3094\n",
       "TechSupport       7032      3                No  3472\n",
       "StreamingTV       7032      3                No  2809\n",
       "StreamingMovies   7032      3                No  2781\n",
       "Contract          7032      3    Month-to-month  3875\n",
       "PaperlessBilling  7032      2               Yes  4168\n",
       "PaymentMethod     7032      4  Electronic check  2365"
      ]
     },
     "execution_count": 102,
     "metadata": {},
     "output_type": "execute_result"
    }
   ],
   "source": [
    "df.describe(include=['object']).T"
   ]
  },
  {
   "cell_type": "code",
   "execution_count": 103,
   "id": "2d82595e",
   "metadata": {},
   "outputs": [],
   "source": [
    "# drop customer ID\n",
    "del df[\"customerID\"]"
   ]
  },
  {
   "cell_type": "code",
   "execution_count": 104,
   "id": "503ca1f5",
   "metadata": {},
   "outputs": [
    {
     "name": "stdout",
     "output_type": "stream",
     "text": [
      "Numerical Columns:\n",
      "SeniorCitizen: 2 unique values\n",
      "tenure: 72 unique values\n",
      "MonthlyCharges: 1584 unique values\n",
      "TotalCharges: 6530 unique values\n",
      "Churn: 2 unique values\n",
      "=======================================\n",
      "\n",
      "Dichotomous Columns:\n",
      "gender: 2 unique values\n",
      "Partner: 2 unique values\n",
      "Dependents: 2 unique values\n",
      "PhoneService: 2 unique values\n",
      "PaperlessBilling: 2 unique values\n",
      "=======================================\n",
      "\n",
      "Polytomous Columns:\n",
      "MultipleLines: 3 unique values\n",
      "InternetService: 3 unique values\n",
      "OnlineSecurity: 3 unique values\n",
      "OnlineBackup: 3 unique values\n",
      "DeviceProtection: 3 unique values\n",
      "TechSupport: 3 unique values\n",
      "StreamingTV: 3 unique values\n",
      "StreamingMovies: 3 unique values\n",
      "Contract: 3 unique values\n",
      "PaymentMethod: 4 unique values\n"
     ]
    }
   ],
   "source": [
    "import pandas as pd\n",
    "\n",
    "def get_numerical_columns(df):\n",
    "    numerical_columns = []\n",
    "    \n",
    "    for column in df.columns:\n",
    "        if df[column].dtype in ['int64', 'float64']:\n",
    "            numerical_columns.append((column, df[column].nunique()))\n",
    "    \n",
    "    return numerical_columns\n",
    "\n",
    "def get_dichotomous_columns(df):\n",
    "    dichotomous_columns = []\n",
    "    \n",
    "    for column in df.columns:\n",
    "        if df[column].dtype == 'object' and df[column].nunique() == 2:\n",
    "            dichotomous_columns.append((column, df[column].nunique()))\n",
    "    \n",
    "    return dichotomous_columns\n",
    "\n",
    "def get_polytomous_columns(df):\n",
    "    polytomous_columns = []\n",
    "    \n",
    "    for column in df.columns:\n",
    "        if df[column].dtype == 'object' and df[column].nunique() > 2:\n",
    "            polytomous_columns.append((column, df[column].nunique()))\n",
    "    \n",
    "    return polytomous_columns\n",
    "\n",
    "\n",
    "numerical_cols = get_numerical_columns(df)\n",
    "dichotomous_cols = get_dichotomous_columns(df)\n",
    "polytomous_cols = get_polytomous_columns(df)\n",
    "\n",
    "print(\"Numerical Columns:\")\n",
    "for column, unique_values in numerical_cols:\n",
    "    print(f\"{column}: {unique_values} unique values\")\n",
    "print(\"=======================================\")\n",
    "print(\"\\nDichotomous Columns:\")\n",
    "for column, unique_values in dichotomous_cols:\n",
    "    print(f\"{column}: {unique_values} unique values\")\n",
    "print(\"=======================================\")\n",
    "print(\"\\nPolytomous Columns:\")\n",
    "for column, unique_values in polytomous_cols:\n",
    "    print(f\"{column}: {unique_values} unique values\")\n"
   ]
  },
  {
   "cell_type": "code",
   "execution_count": null,
   "id": "dff3be2e",
   "metadata": {},
   "outputs": [],
   "source": []
  },
  {
   "cell_type": "markdown",
   "id": "99cc8073",
   "metadata": {},
   "source": [
    "# **Univariate Analysis**"
   ]
  },
  {
   "cell_type": "markdown",
   "id": "8e0003a6",
   "metadata": {},
   "source": [
    "## Analysis of numerical variables"
   ]
  },
  {
   "cell_type": "code",
   "execution_count": 105,
   "id": "9f3ca012-65b5-4f42-b807-91609ca6918b",
   "metadata": {
    "tags": []
   },
   "outputs": [],
   "source": [
    "def num_summary(dataframe, numerical_columns, plot=False):\n",
    "    quantiles = [0.25, 0.50, 0.75]\n",
    "    print(dataframe[numerical_columns].describe(quantiles).T)\n",
    "    \n",
    "    if plot:\n",
    "        dataframe[numerical_columns].hist(bins=20)\n",
    "        plt.xlabel(numerical_columns)\n",
    "        plt.title(numerical_columns)\n",
    "        plt.show()"
   ]
  },
  {
   "cell_type": "code",
   "execution_count": 106,
   "id": "e6d7a42c-102e-4ae5-ac47-16b92aa3ccb9",
   "metadata": {
    "scrolled": false,
    "tags": []
   },
   "outputs": [
    {
     "name": "stdout",
     "output_type": "stream",
     "text": [
      "count    7032.000000\n",
      "mean        0.162400\n",
      "std         0.368844\n",
      "min         0.000000\n",
      "25%         0.000000\n",
      "50%         0.000000\n",
      "75%         0.000000\n",
      "max         1.000000\n",
      "Name: SeniorCitizen, dtype: float64\n"
     ]
    },
    {
     "data": {
      "image/png": "[encoded data removed]",
      "text/plain": [
       "<Figure size 640x480 with 1 Axes>"
      ]
     },
     "metadata": {},
     "output_type": "display_data"
    },
    {
     "name": "stdout",
     "output_type": "stream",
     "text": [
      "count    7032.000000\n",
      "mean       32.421786\n",
      "std        24.545260\n",
      "min         1.000000\n",
      "25%         9.000000\n",
      "50%        29.000000\n",
      "75%        55.000000\n",
      "max        72.000000\n",
      "Name: tenure, dtype: float64\n"
     ]
    },
    {
     "data": {
      "image/png": "[encoded data removed]",
      "text/plain": [
       "<Figure size 640x480 with 1 Axes>"
      ]
     },
     "metadata": {},
     "output_type": "display_data"
    },
    {
     "name": "stdout",
     "output_type": "stream",
     "text": [
      "count    7032.000000\n",
      "mean       64.798208\n",
      "std        30.085974\n",
      "min        18.250000\n",
      "25%        35.587500\n",
      "50%        70.350000\n",
      "75%        89.862500\n",
      "max       118.750000\n",
      "Name: MonthlyCharges, dtype: float64\n"
     ]
    },
    {
     "data": {
      "image/png": "[encoded data removed]",
      "text/plain": [
       "<Figure size 640x480 with 1 Axes>"
      ]
     },
     "metadata": {},
     "output_type": "display_data"
    },
    {
     "name": "stdout",
     "output_type": "stream",
     "text": [
      "count    7032.000000\n",
      "mean     2283.300441\n",
      "std      2266.771362\n",
      "min        18.800000\n",
      "25%       401.450000\n",
      "50%      1397.475000\n",
      "75%      3794.737500\n",
      "max      8684.800000\n",
      "Name: TotalCharges, dtype: float64\n"
     ]
    },
    {
     "data": {
      "image/png": "[encoded data removed]",
      "text/plain": [
       "<Figure size 640x480 with 1 Axes>"
      ]
     },
     "metadata": {},
     "output_type": "display_data"
    },
    {
     "name": "stdout",
     "output_type": "stream",
     "text": [
      "count    7032.000000\n",
      "mean        0.265785\n",
      "std         0.441782\n",
      "min         0.000000\n",
      "25%         0.000000\n",
      "50%         0.000000\n",
      "75%         1.000000\n",
      "max         1.000000\n",
      "Name: Churn, dtype: float64\n"
     ]
    },
    {
     "data": {
      "image/png": "[encoded data removed]",
      "text/plain": [
       "<Figure size 640x480 with 1 Axes>"
      ]
     },
     "metadata": {},
     "output_type": "display_data"
    }
   ],
   "source": [
    "num_cols = [column for column, _ in numerical_cols]  # Extracting column names from numerical_cols\n",
    "\n",
    "for col in num_cols:\n",
    "    num_summary(df, col, plot=True)"
   ]
  },
  {
   "cell_type": "code",
   "execution_count": null,
   "id": "5f95df7f",
   "metadata": {},
   "outputs": [],
   "source": []
  },
  {
   "cell_type": "code",
   "execution_count": null,
   "id": "5ba0fb35",
   "metadata": {},
   "outputs": [],
   "source": []
  },
  {
   "cell_type": "markdown",
   "id": "d9948faa",
   "metadata": {},
   "source": [
    "#### **Target Variable Analysis**"
   ]
  },
  {
   "cell_type": "code",
   "execution_count": 107,
   "id": "c8824243",
   "metadata": {},
   "outputs": [
    {
     "data": {
      "image/png": "[encoded data removed]",
      "text/plain": [
       "<Figure size 800x600 with 1 Axes>"
      ]
     },
     "metadata": {},
     "output_type": "display_data"
    },
    {
     "name": "stdout",
     "output_type": "stream",
     "text": [
      "===================================================\n"
     ]
    },
    {
     "data": {
      "text/plain": [
       "<Axes: xlabel='Churn', ylabel='count'>"
      ]
     },
     "execution_count": 107,
     "metadata": {},
     "output_type": "execute_result"
    },
    {
     "data": {
      "image/png": "[encoded data removed]",
      "text/plain": [
       "<Figure size 640x480 with 1 Axes>"
      ]
     },
     "metadata": {},
     "output_type": "display_data"
    }
   ],
   "source": [
    "# Convert DataFrame to seaborn-compatible format\n",
    "data = df['Churn'].value_counts().reset_index().rename(columns={'index':'Type'})\n",
    "\n",
    "# Plot the pie chart using Matplotlib\n",
    "plt.figure(figsize=(8, 6))\n",
    "plt.pie(x=data['Churn'], labels=data['Type'], autopct=lambda pct: f\"{pct:.1f}% ({int(pct/100*sum(data['Churn']))})\", startangle=90)\n",
    "plt.title('Churn (Target) Distribution')\n",
    "plt.show()\n",
    "\n",
    "print('===================================================')\n",
    "\n",
    "sns.countplot(data = df, x = \"Churn\")"
   ]
  },
  {
   "cell_type": "markdown",
   "id": "f02ea35d",
   "metadata": {},
   "source": [
    "### Analysis of numerical variables according to the target variable"
   ]
  },
  {
   "cell_type": "code",
   "execution_count": 108,
   "id": "b5ba54b3",
   "metadata": {},
   "outputs": [],
   "source": [
    "def target_summary_with_num(dataframe, target, numerical_col):\n",
    "    print(dataframe.groupby(target).agg({numerical_col: \"mean\"}), end=\"\\n\\n\\n\")"
   ]
  },
  {
   "cell_type": "code",
   "execution_count": 109,
   "id": "37bd09a5",
   "metadata": {},
   "outputs": [
    {
     "name": "stdout",
     "output_type": "stream",
     "text": [
      "       SeniorCitizen\n",
      "Churn               \n",
      "0           0.128995\n",
      "1           0.254682\n",
      "\n",
      "\n",
      "          tenure\n",
      "Churn           \n",
      "0      37.650010\n",
      "1      17.979133\n",
      "\n",
      "\n",
      "       MonthlyCharges\n",
      "Churn                \n",
      "0           61.307408\n",
      "1           74.441332\n",
      "\n",
      "\n",
      "       TotalCharges\n",
      "Churn              \n",
      "0       2555.344141\n",
      "1       1531.796094\n",
      "\n",
      "\n",
      "       Churn\n",
      "Churn       \n",
      "0        0.0\n",
      "1        1.0\n",
      "\n",
      "\n"
     ]
    }
   ],
   "source": [
    "for col in num_cols:\n",
    "    target_summary_with_num(df, \"Churn\", col)"
   ]
  },
  {
   "cell_type": "code",
   "execution_count": 110,
   "id": "d38332e1",
   "metadata": {},
   "outputs": [
    {
     "data": {
      "image/png": "[encoded data removed]",
      "text/plain": [
       "<Figure size 1000x500 with 2 Axes>"
      ]
     },
     "metadata": {},
     "output_type": "display_data"
    }
   ],
   "source": [
    "fig, ax = plt.subplots(1, 2, figsize=(10, 5))\n",
    "\n",
    "num_cols = ['tenure', 'MonthlyCharges', 'TotalCharges', 'Churn']\n",
    "\n",
    "for i in range(0, len(num_cols), 2):\n",
    "    sns.boxplot(data=df, y=num_cols[i], x=\"Churn\", ax=ax[0])\n",
    "    sns.boxplot(data=df, y=num_cols[i + 1], x=\"Churn\", ax=ax[1])\n",
    "\n",
    "    for axis in ax:\n",
    "        axis.grid(True, which='both', linestyle='--')\n",
    "        axis.set(xlabel='')\n",
    "\n",
    "# Adjust the spacing between the subplots\n",
    "plt.subplots_adjust(wspace=0.5)  # Increase or decrease the value as needed\n",
    "\n",
    "# Show the plot\n",
    "plt.show()"
   ]
  },
  {
   "cell_type": "code",
   "execution_count": 111,
   "id": "8fc06f8c",
   "metadata": {},
   "outputs": [
    {
     "data": {
      "image/png": "[encoded data removed]",
      "text/plain": [
       "<Figure size 1000x500 with 2 Axes>"
      ]
     },
     "metadata": {},
     "output_type": "display_data"
    },
    {
     "data": {
      "image/png": "[encoded data removed]",
      "text/plain": [
       "<Figure size 1000x500 with 2 Axes>"
      ]
     },
     "metadata": {},
     "output_type": "display_data"
    }
   ],
   "source": [
    "for i in range(0,len(num_cols),2):\n",
    "    fig,ax = plt.subplots(1,2, figsize=(10, 5))\n",
    "    sns.histplot(df,x = num_cols[i], hue = \"Churn\", kde = True,ax=ax[0])\n",
    "    sns.histplot(df,x = num_cols[i+1], hue = \"Churn\", kde = True,ax=ax[1])\n",
    "    for ax in ax:\n",
    "        ax.grid(True, which='both', linestyle='--')\n",
    "        ax.set(ylabel='')"
   ]
  },
  {
   "cell_type": "markdown",
   "id": "5d47dac0",
   "metadata": {},
   "source": [
    "## Univariate Statistical Analysis\n",
    "* **Normality and Variance test**"
   ]
  },
  {
   "cell_type": "markdown",
   "id": "34fc58c1",
   "metadata": {},
   "source": [
    "\n",
    "It is impotant to note that parametric tests are more robust compared to non parametric tests. Hence we need to asses the data if the parametric assumptions are not violeted.\n",
    "\n",
    "\n",
    "Normality tests are used to determine if a dataset is normally distributed and to check how likely it is for a random variable in the dataset to be normally distributed.\n",
    "\n",
    "\n",
    "There are three numerical features in this dataset - **MonthlyCharges**, **Tenure**, and **TotalCharges**.\n",
    "\n",
    "\n",
    "Hypotheses -\n",
    "\n",
    "* H0: the sample has a Gaussian distribution.\n",
    "* H1: the sample does not have a Gaussian distribution.\n",
    "\n",
    "We can not perform **Shapiro-Wilk Test** because sample size > 5000 and for this test p-value may not be accurate for N > 5000.\n",
    "\n",
    "Hence we use **Anderson-Darling** for normality test."
   ]
  },
  {
   "cell_type": "markdown",
   "id": "08d2dbd2",
   "metadata": {},
   "source": [
    "* **Anderson-Darling Test**\n",
    "\n",
    "`Critical values` in a statistical test are a range of pre-defined significance boundaries at which the H0 can be failed to be rejected if the calculated statistic is less than the critical value.\n",
    "\n",
    "Rather than just a single p-value, this test returns a critical value for a **range of different commonly used significance levels**.\n",
    "\n",
    "In this case  - **normal/exponential** (15%, 10%, 5%, 2.5%, 1%)"
   ]
  },
  {
   "cell_type": "code",
   "execution_count": 112,
   "id": "f09ba302",
   "metadata": {},
   "outputs": [
    {
     "name": "stdout",
     "output_type": "stream",
     "text": [
      "Variable: tenure\n",
      "Statistic: 202.31780895668817\n",
      "Critical Values: [0.576 0.656 0.787 0.917 1.091]\n",
      "Significance Levels: [15.  10.   5.   2.5  1. ]\n",
      "Is Normal: False\n",
      "=======================================\n",
      "Variable: MonthlyCharges\n",
      "Statistic: 170.18974892396363\n",
      "Critical Values: [0.576 0.656 0.787 0.917 1.091]\n",
      "Significance Levels: [15.  10.   5.   2.5  1. ]\n",
      "Is Normal: False\n",
      "=======================================\n",
      "Variable: TotalCharges\n",
      "Statistic: 345.2272642190619\n",
      "Critical Values: [0.576 0.656 0.787 0.917 1.091]\n",
      "Significance Levels: [15.  10.   5.   2.5  1. ]\n",
      "Is Normal: False\n",
      "=======================================\n"
     ]
    }
   ],
   "source": [
    "from scipy import stats\n",
    "\n",
    "# Perform Anderson-Darling test for each variable\n",
    "variables = ['tenure', 'MonthlyCharges', 'TotalCharges']\n",
    "for variable in variables:\n",
    "    sample_data = df[variable]\n",
    "    result = stats.anderson(sample_data, dist='norm')\n",
    "    print(f\"Variable: {variable}\")\n",
    "    print(f\"Statistic: {result.statistic}\")\n",
    "    print(f\"Critical Values: {result.critical_values}\")\n",
    "    print(f\"Significance Levels: {result.significance_level}\")\n",
    "    print(f\"Is Normal: {result.statistic < result.critical_values[2]}\")\n",
    "    print(\"=======================================\")"
   ]
  },
  {
   "cell_type": "markdown",
   "id": "67d6a75e",
   "metadata": {},
   "source": [
    "* **Levene test for homoscedasticity**\n",
    "\n",
    "The test compares the variances of the different groups (in this case, the variables) and provides a test statistic and a p-value. If the p-value is less than the chosen significance level (alpha), we reject the null hypothesis of homoscedasticity, indicating that the variances are significantly different. Conversely, if the p-value is greater than alpha, we fail to reject the null hypothesis, indicating that the variances are not significantly different, suggesting homoscedasticity.\n",
    "\n",
    "\n",
    "Hypotheses -\n",
    "\n",
    "* H0: Variances are significantly different.\n",
    "    \n",
    "* H1: Variances are not significantly different."
   ]
  },
  {
   "cell_type": "code",
   "execution_count": 113,
   "id": "5a62fd37",
   "metadata": {},
   "outputs": [
    {
     "name": "stdout",
     "output_type": "stream",
     "text": [
      "Levene's Test\n",
      "-------------\n",
      "Test Statistic: 7800.044615500039\n",
      "P-value: 0.0\n",
      "The variances are significantly different. Reject the null hypothesis of homoscedasticity.\n"
     ]
    }
   ],
   "source": [
    "from scipy.stats import levene\n",
    "\n",
    "# Extract the variables into separate Series or arrays\n",
    "tenure = df['tenure']\n",
    "monthly_charges = df['MonthlyCharges']\n",
    "total_charges = df['TotalCharges']\n",
    "\n",
    "# Perform Levene's test\n",
    "statistic, p_value = levene(tenure, monthly_charges, total_charges)\n",
    "\n",
    "# Output the test results\n",
    "print(\"Levene's Test\")\n",
    "print(\"-------------\")\n",
    "print(f\"Test Statistic: {statistic}\")\n",
    "print(f\"P-value: {p_value}\")\n",
    "\n",
    "# Interpret the results\n",
    "alpha = 0.05  # significance level\n",
    "if p_value < alpha:\n",
    "    print(\"The variances are significantly different. Reject the null hypothesis of homoscedasticity.\")\n",
    "else:\n",
    "    print(\"The variances are not significantly different. Fail to reject the null hypothesis of homoscedasticity.\")\n"
   ]
  },
  {
   "cell_type": "markdown",
   "id": "995322a9",
   "metadata": {},
   "source": [
    "* **Conclusion:** We can conclude that 'tenure', 'MonthlyCharges' and 'TotalCharges' cannot be tested by parametric methods."
   ]
  },
  {
   "cell_type": "code",
   "execution_count": null,
   "id": "cefb03e5",
   "metadata": {},
   "outputs": [],
   "source": []
  },
  {
   "cell_type": "code",
   "execution_count": null,
   "id": "b1761e09",
   "metadata": {},
   "outputs": [],
   "source": []
  },
  {
   "cell_type": "markdown",
   "id": "94c6ffca",
   "metadata": {},
   "source": [
    "## Bivariate statistical analysis"
   ]
  },
  {
   "cell_type": "markdown",
   "id": "0d3e4b44",
   "metadata": {},
   "source": [
    "#### Numerical to Numerical relationships"
   ]
  },
  {
   "cell_type": "markdown",
   "id": "ce7533c5",
   "metadata": {},
   "source": [
    "We need to choose between **Pearson correlation** and **Spearman correlation**. For Pearson r correlation, both variables should be normally distributed\n",
    "According to the normality test tenure, MonthlyCharges and TotalCharges columns are **not normally distributed** \n",
    "\n",
    "**Unlike the Pearson correlation**, the Spearman correlation does not assume that both datasets are **normally distributed**\n",
    "\n",
    "Pearson correlation assumes normality, linearity and homoscedasticity. Pearson's correlation is also unable to tell the difference between dependent and independent variables\n",
    "\n",
    "Hypotheses -\n",
    "\n",
    "\n",
    "* **H0: there is a monotonic relationship between the samples**\n",
    "\n",
    "* **H1: the two samples do not have monotonic relationship**"
   ]
  },
  {
   "cell_type": "code",
   "execution_count": 114,
   "id": "4506eefc",
   "metadata": {},
   "outputs": [],
   "source": [
    "def cal_spearmanr(c1, c2):\n",
    "\n",
    "    alpha = 0.05\n",
    "\n",
    "    correlation, p_value = stats.spearmanr(df[c1], df[c2])\n",
    "\n",
    "    print(f'{c1}, {c2} correlation : {correlation}, p : {p_value}')\n",
    "\n",
    "    if p_value > alpha:\n",
    "        print(' reject Null hypothesis')\n",
    "    else:\n",
    "        print('Accept Null hypothesis')"
   ]
  },
  {
   "cell_type": "code",
   "execution_count": 115,
   "id": "92c94c60",
   "metadata": {},
   "outputs": [
    {
     "name": "stdout",
     "output_type": "stream",
     "text": [
      "tenure, MonthlyCharges correlation : 0.2753387429197595, p : 1.535767470847339e-122\n",
      "Accept Null hypothesis\n",
      "===============================\n",
      "tenure, TotalCharges correlation : 0.8891770805365491, p : 0.0\n",
      "Accept Null hypothesis\n",
      "===============================\n",
      "MonthlyCharges, TotalCharges correlation : 0.6380321757758154, p : 0.0\n",
      "Accept Null hypothesis\n"
     ]
    }
   ],
   "source": [
    "cal_spearmanr('tenure','MonthlyCharges')\n",
    "print('===============================')\n",
    "cal_spearmanr('tenure','TotalCharges')\n",
    "print('===============================')\n",
    "cal_spearmanr('MonthlyCharges','TotalCharges')"
   ]
  },
  {
   "cell_type": "markdown",
   "id": "2c6808cb",
   "metadata": {},
   "source": [
    "#### Numerical to Categorical i.e,. target variable (Dichotomous)"
   ]
  },
  {
   "cell_type": "markdown",
   "id": "91138717",
   "metadata": {},
   "source": [
    "* **Mann-Whitney U Test**\n",
    "\n",
    "The Mann-Whitney U test is a **nonparametric** statistical significance test for determining whether two independent samples were drawn from a population with the same distribution.\n",
    "\n",
    "The test determines whether the medians of two or more groups are different.\n",
    "\n",
    "**NB** : For the test to be effective, it requires **at least 20 observations** in each data sample.\n",
    "\n",
    "* Fail to Reject H0: Sample distributions are equal. (or sample distributions are likely drawn from the same population)\n",
    "* Reject H0: Sample distributions are not equal.\n",
    "\n",
    "Hypothesis:\n",
    "\n",
    "* **H0: population medians are equal**\n",
    "* **H1: population medians are not equal**"
   ]
  },
  {
   "cell_type": "code",
   "execution_count": 116,
   "id": "38b6c392",
   "metadata": {},
   "outputs": [],
   "source": [
    "def mannwhitneyu_correlation(feature1):\n",
    "    stat, p_value = stats.mannwhitneyu(df[feature1], (df['Churn'] == 'Yes').astype(int))\n",
    "    print(f\"Correlation between {feature1} and Churn\")\n",
    "    print('Statistics = %.5f, p = %.5f' % (stat, p_value))\n",
    "\n",
    "    # interpret the significance\n",
    "    alpha = 0.05\n",
    "    if p_value > alpha:\n",
    "        print('Same distribution (fail to reject H0)')\n",
    "    else:\n",
    "        print('Different distribution (reject H0)')\n",
    "    print('----\\n') "
   ]
  },
  {
   "cell_type": "code",
   "execution_count": 117,
   "id": "ab2c9f28",
   "metadata": {},
   "outputs": [
    {
     "data": {
      "text/markdown": [
       "Correlation with **tenure**"
      ],
      "text/plain": [
       "<IPython.core.display.Markdown object>"
      ]
     },
     "metadata": {},
     "output_type": "display_data"
    },
    {
     "name": "stdout",
     "output_type": "stream",
     "text": [
      "Correlation between tenure and Churn\n",
      "Statistics = 49449024.00000, p = 0.00000\n",
      "Different distribution (reject H0)\n",
      "----\n",
      "\n"
     ]
    },
    {
     "data": {
      "text/markdown": [
       "Correlation with **MonthlyCharges**"
      ],
      "text/plain": [
       "<IPython.core.display.Markdown object>"
      ]
     },
     "metadata": {},
     "output_type": "display_data"
    },
    {
     "name": "stdout",
     "output_type": "stream",
     "text": [
      "Correlation between MonthlyCharges and Churn\n",
      "Statistics = 49449024.00000, p = 0.00000\n",
      "Different distribution (reject H0)\n",
      "----\n",
      "\n"
     ]
    },
    {
     "data": {
      "text/markdown": [
       "Correlation with **TotalCharges**"
      ],
      "text/plain": [
       "<IPython.core.display.Markdown object>"
      ]
     },
     "metadata": {},
     "output_type": "display_data"
    },
    {
     "name": "stdout",
     "output_type": "stream",
     "text": [
      "Correlation between TotalCharges and Churn\n",
      "Statistics = 49449024.00000, p = 0.00000\n",
      "Different distribution (reject H0)\n",
      "----\n",
      "\n"
     ]
    }
   ],
   "source": [
    "numerical_features = ['tenure','MonthlyCharges', 'TotalCharges']\n",
    "\n",
    "for num in numerical_features:\n",
    "    printmd(f\"Correlation with **{num}**\")\n",
    "    mannwhitneyu_correlation(num)"
   ]
  },
  {
   "cell_type": "markdown",
   "id": "a4384901",
   "metadata": {},
   "source": [
    "## Multivariate statistical analysis"
   ]
  },
  {
   "cell_type": "markdown",
   "id": "e3259336",
   "metadata": {},
   "source": [
    "* Kruskal-Wallis test is non-parametric alternative to ANOVA: It is used to compare the distributions of three or more independent groups. It is suitable when the assumptions of ANOVA (normality and equal variances) are violated. The test is based on ranks rather than the actual data values.\n",
    "\n",
    "\n",
    "Let us perform the Kruskal-Wallis test on the variables 'tenure', 'MonthlyCharges', and 'TotalCharges' to check if they are independent from one another"
   ]
  },
  {
   "cell_type": "code",
   "execution_count": 118,
   "id": "cc08fa11",
   "metadata": {},
   "outputs": [
    {
     "name": "stdout",
     "output_type": "stream",
     "text": [
      "Kruskal-Wallis Test\n",
      "-------------------\n",
      "Test Statistic: 13236.502813218167\n",
      "P-value: 0.0\n",
      "There is a significant difference in at least one of the variables.\n"
     ]
    }
   ],
   "source": [
    "from scipy.stats import kruskal\n",
    "\n",
    "# Extract the variables into separate Series or arrays\n",
    "tenure = df['tenure']\n",
    "monthly_charges = df['MonthlyCharges']\n",
    "total_charges = df['TotalCharges']\n",
    "\n",
    "# Perform Kruskal-Wallis test\n",
    "statistic, p_value = kruskal(tenure, monthly_charges, total_charges)\n",
    "\n",
    "# Output the test results\n",
    "print(\"Kruskal-Wallis Test\")\n",
    "print(\"-------------------\")\n",
    "print(f\"Test Statistic: {statistic}\")\n",
    "print(f\"P-value: {p_value}\")\n",
    "\n",
    "# Interpret the results\n",
    "alpha = 0.05  # significance level\n",
    "if p_value < alpha:\n",
    "    print(\"There is a significant difference in at least one of the variables.\")\n",
    "else:\n",
    "    print(\"There is no significant difference in the variables.\")\n"
   ]
  },
  {
   "cell_type": "markdown",
   "id": "55ca31ad",
   "metadata": {},
   "source": [
    "* **Conclusion:** We can conclude that 'tenure', 'MonthlyCharges' and 'TotalCharges' are independent variables."
   ]
  },
  {
   "cell_type": "code",
   "execution_count": null,
   "id": "e015b8b7",
   "metadata": {},
   "outputs": [],
   "source": []
  },
  {
   "cell_type": "code",
   "execution_count": null,
   "id": "2dcd8116",
   "metadata": {},
   "outputs": [],
   "source": []
  },
  {
   "cell_type": "markdown",
   "id": "6e06a46b",
   "metadata": {},
   "source": [
    "### ANALYSIS OF CATEGORICAL VARIABLES "
   ]
  },
  {
   "cell_type": "code",
   "execution_count": 119,
   "id": "0eab4c56",
   "metadata": {},
   "outputs": [
    {
     "data": {
      "image/png": "[encoded data removed]",
      "text/plain": [
       "<Figure size 1000x1000 with 4 Axes>"
      ]
     },
     "metadata": {},
     "output_type": "display_data"
    }
   ],
   "source": [
    "import matplotlib.pyplot as plt\n",
    "\n",
    "# Calculate the value counts for each category\n",
    "online_security_counts = df['OnlineSecurity'].value_counts()\n",
    "online_backup_counts = df['OnlineBackup'].value_counts()\n",
    "device_protection_counts = df['DeviceProtection'].value_counts()\n",
    "tech_support_counts = df['TechSupport'].value_counts()\n",
    "\n",
    "# Create subplots with a 2x2 grid\n",
    "fig, axs = plt.subplots(2, 2, figsize=(10, 10))\n",
    "\n",
    "# Plot the pie chart for Online Security\n",
    "_, _, autotexts = axs[0, 0].pie(online_security_counts, labels=online_security_counts.index, autopct='%1.1f%%')\n",
    "axs[0, 0].set_title('Online Security')\n",
    "# Add numbers next to percentages\n",
    "for autotext, count in zip(autotexts, online_security_counts):\n",
    "    autotext.set_color('white')\n",
    "    autotext.set_fontsize(12)\n",
    "    autotext.set_text(f\"{autotext.get_text()} ({count})\")\n",
    "\n",
    "# Plot the pie chart for Online Backup\n",
    "_, _, autotexts = axs[0, 1].pie(online_backup_counts, labels=online_backup_counts.index, autopct='%1.1f%%')\n",
    "axs[0, 1].set_title('Online Backup')\n",
    "# Add numbers next to percentages\n",
    "for autotext, count in zip(autotexts, online_backup_counts):\n",
    "    autotext.set_color('white')\n",
    "    autotext.set_fontsize(12)\n",
    "    autotext.set_text(f\"{autotext.get_text()} ({count})\")\n",
    "\n",
    "# Plot the pie chart for Device Protection\n",
    "_, _, autotexts = axs[1, 0].pie(device_protection_counts, labels=device_protection_counts.index, autopct='%1.1f%%')\n",
    "axs[1, 0].set_title('Device Protection')\n",
    "# Add numbers next to percentages\n",
    "for autotext, count in zip(autotexts, device_protection_counts):\n",
    "    autotext.set_color('white')\n",
    "    autotext.set_fontsize(12)\n",
    "    autotext.set_text(f\"{autotext.get_text()} ({count})\")\n",
    "\n",
    "# Plot the pie chart for Tech Support\n",
    "_, _, autotexts = axs[1, 1].pie(tech_support_counts, labels=tech_support_counts.index, autopct='%1.1f%%')\n",
    "axs[1, 1].set_title('Tech Support')\n",
    "# Add numbers next to percentages\n",
    "for autotext, count in zip(autotexts, tech_support_counts):\n",
    "    autotext.set_color('white')\n",
    "    autotext.set_fontsize(12)\n",
    "    autotext.set_text(f\"{autotext.get_text()} ({count})\")\n",
    "\n",
    "# Add a super title\n",
    "fig.suptitle('Online Backup, Device Protection, Online Security, and Tech Support')\n",
    "\n",
    "# Adjust the spacing between subplots\n",
    "fig.tight_layout()\n",
    "\n",
    "# Show the plot\n",
    "plt.show()\n"
   ]
  },
  {
   "cell_type": "code",
   "execution_count": 120,
   "id": "ef9719cc",
   "metadata": {},
   "outputs": [
    {
     "data": {
      "text/markdown": [
       "## Payment Method"
      ],
      "text/plain": [
       "<IPython.core.display.Markdown object>"
      ]
     },
     "metadata": {},
     "output_type": "display_data"
    },
    {
     "data": {
      "image/png": "[encoded data removed]",
      "text/plain": [
       "<Figure size 800x600 with 1 Axes>"
      ]
     },
     "metadata": {},
     "output_type": "display_data"
    }
   ],
   "source": [
    "# Calculate the value counts for each payment method\n",
    "payment_counts = df['PaymentMethod'].value_counts().reset_index().rename(columns={'index':'Type', 'PaymentMethod': 'Count'})\n",
    "\n",
    "# Plot the pie chart using matplotlib\n",
    "plt.figure(figsize=(8, 6))\n",
    "patches, texts, autotexts = plt.pie(payment_counts['Count'], labels=payment_counts['Type'], autopct='%1.1f%%', startangle=90)\n",
    "plt.axis('equal')\n",
    "#plt.title()\n",
    "\n",
    "# Add numbers next to percentages\n",
    "for i, autotext in enumerate(autotexts):\n",
    "    autotext.set_text(f\"{autotext.get_text()} ({payment_counts['Count'].iloc[i]})\")\n",
    "\n",
    "# Display the Markdown heading and the pie chart\n",
    "display(Markdown(\"## Payment Method\"))\n",
    "plt.show()\n"
   ]
  },
  {
   "cell_type": "code",
   "execution_count": 121,
   "id": "2b2eb807",
   "metadata": {
    "scrolled": false
   },
   "outputs": [
    {
     "data": {
      "image/png": "[encoded data removed]",
      "text/plain": [
       "<Figure size 900x1200 with 5 Axes>"
      ]
     },
     "metadata": {},
     "output_type": "display_data"
    },
    {
     "data": {
      "text/markdown": [
       "## Insights"
      ],
      "text/plain": [
       "<IPython.core.display.Markdown object>"
      ]
     },
     "metadata": {},
     "output_type": "display_data"
    },
    {
     "data": {
      "text/markdown": [
       "#### Gender"
      ],
      "text/plain": [
       "<IPython.core.display.Markdown object>"
      ]
     },
     "metadata": {},
     "output_type": "display_data"
    },
    {
     "data": {
      "text/markdown": [
       "#### Dependents"
      ],
      "text/plain": [
       "<IPython.core.display.Markdown object>"
      ]
     },
     "metadata": {},
     "output_type": "display_data"
    },
    {
     "data": {
      "text/markdown": [
       "#### Senior Citizen"
      ],
      "text/plain": [
       "<IPython.core.display.Markdown object>"
      ]
     },
     "metadata": {},
     "output_type": "display_data"
    },
    {
     "data": {
      "text/markdown": [
       "#### Contract"
      ],
      "text/plain": [
       "<IPython.core.display.Markdown object>"
      ]
     },
     "metadata": {},
     "output_type": "display_data"
    },
    {
     "data": {
      "text/markdown": [
       "#### Billing"
      ],
      "text/plain": [
       "<IPython.core.display.Markdown object>"
      ]
     },
     "metadata": {},
     "output_type": "display_data"
    }
   ],
   "source": [
    "\n",
    "from IPython.display import display, Markdown\n",
    "\n",
    "# Create a figure with subplots\n",
    "fig, axes = plt.subplots(3, 2, figsize=(9, 12))\n",
    "\n",
    "# Plot 1: Gender\n",
    "sns.countplot(x=\"gender\", data=df, ax=axes[0, 0])\n",
    "axes[0, 0].set_title(\"Gender\")\n",
    "\n",
    "# Plot 2: Dependents\n",
    "sns.countplot(x=\"Dependents\", data=df, ax=axes[0, 1])\n",
    "axes[0, 1].set_title(\"Dependents\")\n",
    "\n",
    "# Plot 3: Senior Citizen\n",
    "sns.countplot(x=\"SeniorCitizen\", data=df, ax=axes[1, 0])\n",
    "axes[1, 0].set_title(\"Senior Citizen\")\n",
    "\n",
    "# Plot 4: Contract\n",
    "sns.countplot(x=\"Contract\", data=df, ax=axes[1, 1])\n",
    "axes[1, 1].set_title(\"Contract\")\n",
    "\n",
    "# Plot 5: Paperless Billing\n",
    "sns.countplot(x=\"PaperlessBilling\", data=df, ax=axes[2, 0])\n",
    "axes[2, 0].set_title(\"Billing\")\n",
    "\n",
    "# Remove empty subplot\n",
    "fig.delaxes(axes[2, 1])\n",
    "\n",
    "# Adjust spacing between subplots\n",
    "plt.tight_layout()\n",
    "\n",
    "# Show the plots\n",
    "plt.show()\n",
    "\n",
    "# Print Markdown headings\n",
    "display(Markdown(\"## Insights\"))\n",
    "display(Markdown(\"#### Gender\"))\n",
    "display(Markdown(\"#### Dependents\"))\n",
    "display(Markdown(\"#### Senior Citizen\"))\n",
    "display(Markdown(\"#### Contract\"))\n",
    "display(Markdown(\"#### Billing\"))"
   ]
  },
  {
   "cell_type": "markdown",
   "id": "754498e4",
   "metadata": {},
   "source": [
    "## Bivaariate Analysis"
   ]
  },
  {
   "cell_type": "markdown",
   "id": "b75bd129",
   "metadata": {},
   "source": [
    "* When testing for interaction between two categorical variables in one column, a common statistical test is the **chi-square test of independence**. This test evaluates whether there is a relationship between the two categorical variables and determines if this relationship is statistically significant."
   ]
  },
  {
   "cell_type": "markdown",
   "id": "b6a0a326",
   "metadata": {},
   "source": [
    "* **Cramer's V** statistic is a measure of association used to assess the strength and significance of the relationship between two categorical variables. Cramer's V takes into account the dimensions of the contingency table, the number of observations, and the chi-square statistic obtained from the chi-square test. The interpretation of Cramer's V statistic is similar to that of correlation coefficients. **A value close to 0 indicates no association, while a value close to 1 suggests a strong association between the variables**. "
   ]
  },
  {
   "cell_type": "markdown",
   "id": "c87b0946",
   "metadata": {},
   "source": [
    "### Chi-Square"
   ]
  },
  {
   "cell_type": "markdown",
   "id": "70654bc1",
   "metadata": {},
   "source": [
    "Detect independence between 2 categorical variables, 2x2 or 2xMany\n",
    "\n",
    "Test statistic in the context of the chi-squared distribution with the requisite number of degrees of freedom\n",
    "\n",
    "* If Statistic >= Critical Value: significant result, reject null hypothesis (H0), dependent.\n",
    "* If Statistic < Critical Value: not significant result, fail to reject null hypothesis (H0), independent.\n",
    "\n",
    "In terms of a p-value and a chosen significance level (alpha):\n",
    "\n",
    "* If p-value <= alpha: significant result, reject null hypothesis (H0), dependent.\n",
    "* If p-value > alpha: not significant result, fail to reject null hypothesis (H0), independent"
   ]
  },
  {
   "cell_type": "code",
   "execution_count": 139,
   "id": "7a00b873",
   "metadata": {},
   "outputs": [],
   "source": [
    "def calculate_chi_square(feature1, feature2='Churn'):\n",
    "    printmd(f\"Correlation between **{feature1}** and **{feature2}**\")\n",
    "    crosstab = pd.crosstab(df[feature1], df[feature2])\n",
    "    # display(crosstab)\n",
    "    stat, p, dof, expected = stats.chi2_contingency(crosstab, correction=True)\n",
    "\n",
    "    print(f'p-value : {p}, degree of freedom: {dof}')\n",
    "    # print(\"expected frequencies :\\n\", expected)\n",
    "\n",
    "    # interpret test-statistic\n",
    "    prob = 0.95\n",
    "    critical = stats.chi2.ppf(prob, dof)\n",
    "    print('probability=%.3f, critical=%.3f, stat=%.3f' % (prob, critical, stat))\n",
    "\n",
    "    if abs(stat) >= critical:\n",
    "        print('Dependent (reject H0)')\n",
    "    else:\n",
    "        print('Independent (fail to reject H0)')\n",
    "\n",
    "    # interpret p-value\n",
    "    alpha = 1.0 - prob\n",
    "\n",
    "    print('significance=%.3f, p=%.3f' % (alpha, p))\n",
    "    if p <= alpha:\n",
    "        print('Dependent (reject H0)')\n",
    "    else:\n",
    "        print('Independent (fail to reject H0)')\n",
    "    print('-----------------------------------\\n')\n"
   ]
  },
  {
   "cell_type": "code",
   "execution_count": 140,
   "id": "d7ce64fc",
   "metadata": {},
   "outputs": [
    {
     "data": {
      "text/markdown": [
       "**Chi-Square Correlation Between Dichotomous Features with Target : Churn**"
      ],
      "text/plain": [
       "<IPython.core.display.Markdown object>"
      ]
     },
     "metadata": {},
     "output_type": "display_data"
    },
    {
     "data": {
      "text/markdown": [
       "Correlation between **gender** and **Churn**"
      ],
      "text/plain": [
       "<IPython.core.display.Markdown object>"
      ]
     },
     "metadata": {},
     "output_type": "display_data"
    },
    {
     "name": "stdout",
     "output_type": "stream",
     "text": [
      "p-value : 0.4904884707065509, degree of freedom: 1\n",
      "probability=0.950, critical=3.841, stat=0.475\n",
      "Independent (fail to reject H0)\n",
      "significance=0.050, p=0.490\n",
      "Independent (fail to reject H0)\n",
      "-----------------------------------\n",
      "\n"
     ]
    },
    {
     "data": {
      "text/markdown": [
       "Correlation between **Partner** and **Churn**"
      ],
      "text/plain": [
       "<IPython.core.display.Markdown object>"
      ]
     },
     "metadata": {},
     "output_type": "display_data"
    },
    {
     "name": "stdout",
     "output_type": "stream",
     "text": [
      "p-value : 3.97379757451591e-36, degree of freedom: 1\n",
      "probability=0.950, critical=3.841, stat=157.503\n",
      "Dependent (reject H0)\n",
      "significance=0.050, p=0.000\n",
      "Dependent (reject H0)\n",
      "-----------------------------------\n",
      "\n"
     ]
    },
    {
     "data": {
      "text/markdown": [
       "Correlation between **Dependents** and **Churn**"
      ],
      "text/plain": [
       "<IPython.core.display.Markdown object>"
      ]
     },
     "metadata": {},
     "output_type": "display_data"
    },
    {
     "name": "stdout",
     "output_type": "stream",
     "text": [
      "p-value : 2.0196592017051303e-42, degree of freedom: 1\n",
      "probability=0.950, critical=3.841, stat=186.322\n",
      "Dependent (reject H0)\n",
      "significance=0.050, p=0.000\n",
      "Dependent (reject H0)\n",
      "-----------------------------------\n",
      "\n"
     ]
    },
    {
     "data": {
      "text/markdown": [
       "Correlation between **PhoneService** and **Churn**"
      ],
      "text/plain": [
       "<IPython.core.display.Markdown object>"
      ]
     },
     "metadata": {},
     "output_type": "display_data"
    },
    {
     "name": "stdout",
     "output_type": "stream",
     "text": [
      "p-value : 0.34992398942431924, degree of freedom: 1\n",
      "probability=0.950, critical=3.841, stat=0.874\n",
      "Independent (fail to reject H0)\n",
      "significance=0.050, p=0.350\n",
      "Independent (fail to reject H0)\n",
      "-----------------------------------\n",
      "\n"
     ]
    },
    {
     "data": {
      "text/markdown": [
       "Correlation between **PaperlessBilling** and **Churn**"
      ],
      "text/plain": [
       "<IPython.core.display.Markdown object>"
      ]
     },
     "metadata": {},
     "output_type": "display_data"
    },
    {
     "name": "stdout",
     "output_type": "stream",
     "text": [
      "p-value : 8.236203353962564e-58, degree of freedom: 1\n",
      "probability=0.950, critical=3.841, stat=256.875\n",
      "Dependent (reject H0)\n",
      "significance=0.050, p=0.000\n",
      "Dependent (reject H0)\n",
      "-----------------------------------\n",
      "\n"
     ]
    }
   ],
   "source": [
    "printmd(\"**Chi-Square Correlation Between Dichotomous Features with Target : Churn**\")\n",
    "\n",
    "dichotomous_cols = ['gender', 'Partner', 'Dependents', 'PhoneService', 'PaperlessBilling']\n",
    "\n",
    "for col in dichotomous_cols:\n",
    "    if col in df.columns:\n",
    "        calculate_chi_square(col)\n",
    "    else:\n",
    "        print(f\"Column '{col}' does not exist in the DataFrame.\")"
   ]
  },
  {
   "cell_type": "markdown",
   "id": "fc6aebf5",
   "metadata": {},
   "source": [
    "**With 5% significance level 'PhoneService' and 'gender' features are not dependent with the target : Churn**"
   ]
  },
  {
   "cell_type": "markdown",
   "id": "b0165a66",
   "metadata": {},
   "source": [
    "### Polytomous Features"
   ]
  },
  {
   "cell_type": "code",
   "execution_count": 142,
   "id": "16c95848",
   "metadata": {},
   "outputs": [
    {
     "data": {
      "text/markdown": [
       "**Chi-Squre Correlation Between Polytomous Features with Target : Churn**"
      ],
      "text/plain": [
       "<IPython.core.display.Markdown object>"
      ]
     },
     "metadata": {},
     "output_type": "display_data"
    },
    {
     "data": {
      "text/markdown": [
       "Correlation between **MultipleLines** and **Churn**"
      ],
      "text/plain": [
       "<IPython.core.display.Markdown object>"
      ]
     },
     "metadata": {},
     "output_type": "display_data"
    },
    {
     "name": "stdout",
     "output_type": "stream",
     "text": [
      "p-value : 0.0035679273999811405, degree of freedom: 2\n",
      "probability=0.950, critical=5.991, stat=11.272\n",
      "Dependent (reject H0)\n",
      "significance=0.050, p=0.004\n",
      "Dependent (reject H0)\n",
      "-----------------------------------\n",
      "\n"
     ]
    },
    {
     "data": {
      "text/markdown": [
       "Correlation between **InternetService** and **Churn**"
      ],
      "text/plain": [
       "<IPython.core.display.Markdown object>"
      ]
     },
     "metadata": {},
     "output_type": "display_data"
    },
    {
     "name": "stdout",
     "output_type": "stream",
     "text": [
      "p-value : 5.831198962237274e-159, degree of freedom: 2\n",
      "probability=0.950, critical=5.991, stat=728.696\n",
      "Dependent (reject H0)\n",
      "significance=0.050, p=0.000\n",
      "Dependent (reject H0)\n",
      "-----------------------------------\n",
      "\n"
     ]
    },
    {
     "data": {
      "text/markdown": [
       "Correlation between **OnlineSecurity** and **Churn**"
      ],
      "text/plain": [
       "<IPython.core.display.Markdown object>"
      ]
     },
     "metadata": {},
     "output_type": "display_data"
    },
    {
     "name": "stdout",
     "output_type": "stream",
     "text": [
      "p-value : 1.4006867477839222e-184, degree of freedom: 2\n",
      "probability=0.950, critical=5.991, stat=846.677\n",
      "Dependent (reject H0)\n",
      "significance=0.050, p=0.000\n",
      "Dependent (reject H0)\n",
      "-----------------------------------\n",
      "\n"
     ]
    },
    {
     "data": {
      "text/markdown": [
       "Correlation between **OnlineBackup** and **Churn**"
      ],
      "text/plain": [
       "<IPython.core.display.Markdown object>"
      ]
     },
     "metadata": {},
     "output_type": "display_data"
    },
    {
     "name": "stdout",
     "output_type": "stream",
     "text": [
      "p-value : 7.776099238804965e-131, degree of freedom: 2\n",
      "probability=0.950, critical=5.991, stat=599.175\n",
      "Dependent (reject H0)\n",
      "significance=0.050, p=0.000\n",
      "Dependent (reject H0)\n",
      "-----------------------------------\n",
      "\n"
     ]
    },
    {
     "data": {
      "text/markdown": [
       "Correlation between **DeviceProtection** and **Churn**"
      ],
      "text/plain": [
       "<IPython.core.display.Markdown object>"
      ]
     },
     "metadata": {},
     "output_type": "display_data"
    },
    {
     "name": "stdout",
     "output_type": "stream",
     "text": [
      "p-value : 1.9593887862403176e-121, degree of freedom: 2\n",
      "probability=0.950, critical=5.991, stat=555.880\n",
      "Dependent (reject H0)\n",
      "significance=0.050, p=0.000\n",
      "Dependent (reject H0)\n",
      "-----------------------------------\n",
      "\n"
     ]
    },
    {
     "data": {
      "text/markdown": [
       "Correlation between **TechSupport** and **Churn**"
      ],
      "text/plain": [
       "<IPython.core.display.Markdown object>"
      ]
     },
     "metadata": {},
     "output_type": "display_data"
    },
    {
     "name": "stdout",
     "output_type": "stream",
     "text": [
      "p-value : 7.407807748843711e-180, degree of freedom: 2\n",
      "probability=0.950, critical=5.991, stat=824.926\n",
      "Dependent (reject H0)\n",
      "significance=0.050, p=0.000\n",
      "Dependent (reject H0)\n",
      "-----------------------------------\n",
      "\n"
     ]
    },
    {
     "data": {
      "text/markdown": [
       "Correlation between **StreamingTV** and **Churn**"
      ],
      "text/plain": [
       "<IPython.core.display.Markdown object>"
      ]
     },
     "metadata": {},
     "output_type": "display_data"
    },
    {
     "name": "stdout",
     "output_type": "stream",
     "text": [
      "p-value : 1.324641113169159e-81, degree of freedom: 2\n",
      "probability=0.950, critical=5.991, stat=372.457\n",
      "Dependent (reject H0)\n",
      "significance=0.050, p=0.000\n",
      "Dependent (reject H0)\n",
      "-----------------------------------\n",
      "\n"
     ]
    },
    {
     "data": {
      "text/markdown": [
       "Correlation between **StreamingMovies** and **Churn**"
      ],
      "text/plain": [
       "<IPython.core.display.Markdown object>"
      ]
     },
     "metadata": {},
     "output_type": "display_data"
    },
    {
     "name": "stdout",
     "output_type": "stream",
     "text": [
      "p-value : 5.353560421401324e-82, degree of freedom: 2\n",
      "probability=0.950, critical=5.991, stat=374.268\n",
      "Dependent (reject H0)\n",
      "significance=0.050, p=0.000\n",
      "Dependent (reject H0)\n",
      "-----------------------------------\n",
      "\n"
     ]
    },
    {
     "data": {
      "text/markdown": [
       "Correlation between **Contract** and **Churn**"
      ],
      "text/plain": [
       "<IPython.core.display.Markdown object>"
      ]
     },
     "metadata": {},
     "output_type": "display_data"
    },
    {
     "name": "stdout",
     "output_type": "stream",
     "text": [
      "p-value : 7.326182186265472e-257, degree of freedom: 2\n",
      "probability=0.950, critical=5.991, stat=1179.546\n",
      "Dependent (reject H0)\n",
      "significance=0.050, p=0.000\n",
      "Dependent (reject H0)\n",
      "-----------------------------------\n",
      "\n"
     ]
    },
    {
     "data": {
      "text/markdown": [
       "Correlation between **PaymentMethod** and **Churn**"
      ],
      "text/plain": [
       "<IPython.core.display.Markdown object>"
      ]
     },
     "metadata": {},
     "output_type": "display_data"
    },
    {
     "name": "stdout",
     "output_type": "stream",
     "text": [
      "p-value : 1.4263098511063342e-139, degree of freedom: 3\n",
      "probability=0.950, critical=7.815, stat=645.430\n",
      "Dependent (reject H0)\n",
      "significance=0.050, p=0.000\n",
      "Dependent (reject H0)\n",
      "-----------------------------------\n",
      "\n"
     ]
    }
   ],
   "source": [
    "printmd(\"**Chi-Squre Correlation Between Polytomous Features with Target : Churn**\")\n",
    "\n",
    "polytomous_cols = ['MultipleLines','InternetService','OnlineSecurity','OnlineBackup','DeviceProtection','TechSupport','StreamingTV','StreamingMovies','Contract','PaymentMethod']\n",
    "\n",
    "for col in polytomous_cols:\n",
    "    if col in df.columns:\n",
    "        calculate_chi_square(col)\n",
    "    else:\n",
    "        print(f\"Column '{col}' does not exist in the DataFrame.\")"
   ]
  },
  {
   "cell_type": "markdown",
   "id": "a62e547d",
   "metadata": {},
   "source": [
    "**With 5% significance level All polytomous features are dependent with the target : Churn**"
   ]
  },
  {
   "cell_type": "code",
   "execution_count": null,
   "id": "562d2349",
   "metadata": {},
   "outputs": [],
   "source": []
  },
  {
   "cell_type": "code",
   "execution_count": null,
   "id": "738a71a7",
   "metadata": {},
   "outputs": [],
   "source": []
  },
  {
   "cell_type": "code",
   "execution_count": null,
   "id": "30ab0c11",
   "metadata": {},
   "outputs": [],
   "source": []
  },
  {
   "cell_type": "code",
   "execution_count": null,
   "id": "21135fc5",
   "metadata": {},
   "outputs": [],
   "source": []
  },
  {
   "cell_type": "code",
   "execution_count": null,
   "id": "9af80ef6",
   "metadata": {},
   "outputs": [],
   "source": []
  },
  {
   "cell_type": "code",
   "execution_count": null,
   "id": "bc559dc6",
   "metadata": {},
   "outputs": [],
   "source": []
  },
  {
   "cell_type": "code",
   "execution_count": null,
   "id": "b1439579",
   "metadata": {},
   "outputs": [],
   "source": []
  },
  {
   "cell_type": "code",
   "execution_count": null,
   "id": "315fe146",
   "metadata": {},
   "outputs": [],
   "source": []
  },
  {
   "cell_type": "code",
   "execution_count": null,
   "id": "df812961",
   "metadata": {},
   "outputs": [],
   "source": []
  },
  {
   "cell_type": "markdown",
   "id": "bf65caee-c0a0-4cd6-b747-110d98507443",
   "metadata": {},
   "source": [
    "# Bivariate Analysis"
   ]
  },
  {
   "cell_type": "markdown",
   "id": "2be96974",
   "metadata": {},
   "source": [
    "- For supervised machine learning it is sufficient to understand all the unique entries in each column of the tabulated data. This will help in coming up with the appropriate EDA methodology for machine learning modeling. Robust statistical tests give comprehensive information about data.<br>\n",
    "\n",
    "\n",
    "- Understanding the type of variables being used is important for selecting appropriate statistical methods and interpreting the results accurately."
   ]
  },
  {
   "cell_type": "markdown",
   "id": "d0a37c3e",
   "metadata": {},
   "source": [
    "This project utilized five important variables from the target data to perform correlation analysis.\n",
    "\n",
    "- **Categorical variables:** Represent qualitative data divided into categories or groups.\n",
    "- **Numerical variables:** Represent quantitative data and can take on numerical values.\n",
    "- **Ordinal variables:** Categorical variables with an ordered or ranked structure.\n",
    "- **Dichotomous variables:** Categorical variables with only two distinct values.\n",
    "- **Polytomous variables:** Categorical variables with more than two distinct categories.\n",
    "\n",
    "**NB: Before performing any statistical test consider either using parametric or non-parametric test.**\n",
    "\n",
    "Each of the above variables will be used to generate data insights by testing them the appropriate statistical test."
   ]
  },
  {
   "cell_type": "code",
   "execution_count": null,
   "id": "cf55e3e9",
   "metadata": {},
   "outputs": [],
   "source": []
  },
  {
   "cell_type": "code",
   "execution_count": null,
   "id": "206af78e",
   "metadata": {},
   "outputs": [],
   "source": []
  },
  {
   "cell_type": "code",
   "execution_count": null,
   "id": "8aa90727",
   "metadata": {},
   "outputs": [],
   "source": []
  },
  {
   "cell_type": "markdown",
   "id": "881a8276-39e5-4b3b-8dde-81dd855f5080",
   "metadata": {},
   "source": [
    "## Univariate Analysis"
   ]
  },
  {
   "cell_type": "markdown",
   "id": "cbccc80b-95ee-4592-822d-bd870bf0e870",
   "metadata": {
    "tags": []
   },
   "source": [
    "## 5.1 Statistical Normality Tests\n",
    "\n",
    "Normality tests are used to determine if a dataset is normally distributed and to check how likely it is for a random variable in the dataset to be normally distributed.\n",
    "\n",
    "There are three numerical features in this dataset - **MonthlyCharges**, **Tenure**, and **TotalCharges**.\n",
    "\n",
    "NB : we can not perform **Shapiro-Wilk Test** because sample size > 5000 and for this test p-value may not be accurate for N > 5000. Hence **Anderson-Darling Test** was  used to test for normality.\n",
    "\n",
    "Hypotheses -\n",
    "\n",
    "* H0: the sample has a Gaussian distribution.\n",
    "* H1: the sample does not have a Gaussian distribution."
   ]
  },
  {
   "cell_type": "markdown",
   "id": "1b65d7d6-688a-4133-9647-882363343cea",
   "metadata": {},
   "source": [
    "### 5.1.2 Anderson-Darling Test\n",
    "\n",
    "`Critical values` in a statistical test are a range of pre-defined significance boundaries at which the null hypothesis H0 can be failed to be rejected if the calculated statistic is less than the critical value.\n",
    "\n",
    "Rather than just a single p-value, this test returns a critical value for a **range of different commonly used significance levels**.\n",
    "\n",
    "In this case  - **normal/exponential** (15%, 10%, 5%, 2.5%, 1%)"
   ]
  },
  {
   "cell_type": "markdown",
   "id": "e3c4dbe5-3662-41b6-9b02-1fb14ac29e0c",
   "metadata": {},
   "source": [
    "### TotalCharges"
   ]
  },
  {
   "cell_type": "code",
   "execution_count": 70,
   "id": "a554fba6-f826-405d-9789-636d882f3343",
   "metadata": {
    "tags": []
   },
   "outputs": [
    {
     "name": "stdout",
     "output_type": "stream",
     "text": [
      "Statistic: 345.227\n",
      "Significance level 15.00 % : critical value 0.576, data is not normaly distributed (reject H0)\n",
      "Significance level 10.00 % : critical value 0.656, data is not normaly distributed (reject H0)\n",
      "Significance level 5.00 % : critical value 0.787, data is not normaly distributed (reject H0)\n",
      "Significance level 2.50 % : critical value 0.917, data is not normaly distributed (reject H0)\n",
      "Significance level 1.00 % : critical value 1.091, data is not normaly distributed (reject H0)\n"
     ]
    }
   ],
   "source": [
    "result = stats.anderson(df['TotalCharges'])\n",
    "\n",
    "print('Statistic: %.3f' % result.statistic)\n",
    "\n",
    "p = 0\n",
    "\n",
    "for i in range(len(result.critical_values)):\n",
    "    sl, cv = result.significance_level[i], result.critical_values[i]\n",
    "    if result.statistic < result.critical_values[i]:\n",
    "        print(f'Significance level {sl:.2f} % : critical value {cv:.3f}, data is normaly distributed (Accept H0)')\n",
    "    else:\n",
    "        print(f'Significance level {sl:.2f} % : critical value {cv:.3f}, data is not normaly distributed (reject H0)')"
   ]
  },
  {
   "cell_type": "markdown",
   "id": "a226eabb-c54a-4d03-85b7-1e33102c4432",
   "metadata": {},
   "source": [
    "### MonthlyCharges"
   ]
  },
  {
   "cell_type": "code",
   "execution_count": 71,
   "id": "19afa1b5-3add-49cb-874b-8801f01d0776",
   "metadata": {
    "tags": []
   },
   "outputs": [
    {
     "name": "stdout",
     "output_type": "stream",
     "text": [
      "Statistic: 170.190\n",
      "Significance level 15.00 % : critical value 0.576, data is not normaly distributed (reject H0)\n",
      "Significance level 10.00 % : critical value 0.656, data is not normaly distributed (reject H0)\n",
      "Significance level 5.00 % : critical value 0.787, data is not normaly distributed (reject H0)\n",
      "Significance level 2.50 % : critical value 0.917, data is not normaly distributed (reject H0)\n",
      "Significance level 1.00 % : critical value 1.091, data is not normaly distributed (reject H0)\n"
     ]
    }
   ],
   "source": [
    "result = stats.anderson(df['MonthlyCharges'])\n",
    "\n",
    "print('Statistic: %.3f' % result.statistic)\n",
    "\n",
    "p = 0\n",
    "\n",
    "for i in range(len(result.critical_values)):\n",
    "    sl, cv = result.significance_level[i], result.critical_values[i]\n",
    "    if result.statistic < result.critical_values[i]:\n",
    "        print(f'Significance level {sl:.2f} % : critical value {cv:.3f}, data is normaly distributed (Accept H0)')\n",
    "    else:\n",
    "        print(f'Significance level {sl:.2f} % : critical value {cv:.3f}, data is not normaly distributed (reject H0)')"
   ]
  },
  {
   "cell_type": "markdown",
   "id": "d1cefbbd-1dc5-454f-96fc-518040799cfc",
   "metadata": {},
   "source": [
    "### tenure"
   ]
  },
  {
   "cell_type": "code",
   "execution_count": 72,
   "id": "1f835475-3e6e-498d-aa09-e9b40cd658e0",
   "metadata": {
    "tags": []
   },
   "outputs": [
    {
     "name": "stdout",
     "output_type": "stream",
     "text": [
      "Statistic: 202.318\n",
      "Significance level 15.00 % : critical value 0.576, data is not normaly distributed (reject H0)\n",
      "Significance level 10.00 % : critical value 0.656, data is not normaly distributed (reject H0)\n",
      "Significance level 5.00 % : critical value 0.787, data is not normaly distributed (reject H0)\n",
      "Significance level 2.50 % : critical value 0.917, data is not normaly distributed (reject H0)\n",
      "Significance level 1.00 % : critical value 1.091, data is not normaly distributed (reject H0)\n"
     ]
    }
   ],
   "source": [
    "result = stats.anderson(df['tenure'])\n",
    "\n",
    "print('Statistic: %.3f' % result.statistic)\n",
    "\n",
    "p = 0\n",
    "\n",
    "for i in range(len(result.critical_values)):\n",
    "    sl, cv = result.significance_level[i], result.critical_values[i]\n",
    "    if result.statistic < result.critical_values[i]:\n",
    "        print(f'Significance level {sl:.2f} % : critical value {cv:.3f}, data is normaly distributed (Accept H0)')\n",
    "    else:\n",
    "        print(f'Significance level {sl:.2f} % : critical value {cv:.3f}, data is not normaly distributed (reject H0)')"
   ]
  },
  {
   "cell_type": "markdown",
   "id": "8aec3965-7434-4cc2-9a01-34d463addfdf",
   "metadata": {},
   "source": [
    "## Visualization"
   ]
  },
  {
   "cell_type": "markdown",
   "id": "8c0955e1-c1a7-4f8b-8d08-3591ddef3049",
   "metadata": {},
   "source": [
    "### Churn (Target) Distribution"
   ]
  },
  {
   "cell_type": "code",
   "execution_count": 73,
   "id": "28ad5283-f80e-4424-aefc-42dabbbf8e9f",
   "metadata": {
    "tags": []
   },
   "outputs": [],
   "source": []
  },
  {
   "cell_type": "code",
   "execution_count": 74,
   "id": "b230ecd0-5e01-4c8f-85ba-7b17da850a06",
   "metadata": {
    "tags": []
   },
   "outputs": [],
   "source": []
  },
  {
   "cell_type": "code",
   "execution_count": 75,
   "id": "d9b6f4e2-2145-4f05-a50b-53fec5759299",
   "metadata": {
    "tags": []
   },
   "outputs": [
    {
     "data": {
      "application/vnd.plotly.v1+json": {
       "config": {
        "plotlyServerURL": "https://plot.ly"
       },
       "data": [
        {
         "domain": {
          "x": [
           0,
           1
          ],
          "y": [
           0,
           1
          ]
         },
         "hovertemplate": "Type=%{label}<br>Churn=%{value}<extra></extra>",
         "labels": [
          0,
          1
         ],
         "legendgroup": "",
         "name": "",
         "showlegend": true,
         "textinfo": "percent+label",
         "textposition": "inside",
         "type": "pie",
         "values": [
          5163,
          1869
         ]
        }
       ],
       "layout": {
        "legend": {
         "tracegroupgap": 0
        },
        "template": {
         "data": {
          "bar": [
           {
            "error_x": {
             "color": "#2a3f5f"
            },
            "error_y": {
             "color": "#2a3f5f"
            },
            "marker": {
             "line": {
              "color": "#E5ECF6",
              "width": 0.5
             },
             "pattern": {
              "fillmode": "overlay",
              "size": 10,
              "solidity": 0.2
             }
            },
            "type": "bar"
           }
          ],
          "barpolar": [
           {
            "marker": {
             "line": {
              "color": "#E5ECF6",
              "width": 0.5
             },
             "pattern": {
              "fillmode": "overlay",
              "size": 10,
              "solidity": 0.2
             }
            },
            "type": "barpolar"
           }
          ],
          "carpet": [
           {
            "aaxis": {
             "endlinecolor": "#2a3f5f",
             "gridcolor": "white",
             "linecolor": "white",
             "minorgridcolor": "white",
             "startlinecolor": "#2a3f5f"
            },
            "baxis": {
             "endlinecolor": "#2a3f5f",
             "gridcolor": "white",
             "linecolor": "white",
             "minorgridcolor": "white",
             "startlinecolor": "#2a3f5f"
            },
            "type": "carpet"
           }
          ],
          "choropleth": [
           {
            "colorbar": {
             "outlinewidth": 0,
             "ticks": ""
            },
            "type": "choropleth"
           }
          ],
          "contour": [
           {
            "colorbar": {
             "outlinewidth": 0,
             "ticks": ""
            },
            "colorscale": [
             [
              0,
              "#0d0887"
             ],
             [
              0.1111111111111111,
              "#46039f"
             ],
             [
              0.2222222222222222,
              "#7201a8"
             ],
             [
              0.3333333333333333,
              "#9c179e"
             ],
             [
              0.4444444444444444,
              "#bd3786"
             ],
             [
              0.5555555555555556,
              "#d8576b"
             ],
             [
              0.6666666666666666,
              "#ed7953"
             ],
             [
              0.7777777777777778,
              "#fb9f3a"
             ],
             [
              0.8888888888888888,
              "#fdca26"
             ],
             [
              1,
              "#f0f921"
             ]
            ],
            "type": "contour"
           }
          ],
          "contourcarpet": [
           {
            "colorbar": {
             "outlinewidth": 0,
             "ticks": ""
            },
            "type": "contourcarpet"
           }
          ],
          "heatmap": [
           {
            "colorbar": {
             "outlinewidth": 0,
             "ticks": ""
            },
            "colorscale": [
             [
              0,
              "#0d0887"
             ],
             [
              0.1111111111111111,
              "#46039f"
             ],
             [
              0.2222222222222222,
              "#7201a8"
             ],
             [
              0.3333333333333333,
              "#9c179e"
             ],
             [
              0.4444444444444444,
              "#bd3786"
             ],
             [
              0.5555555555555556,
              "#d8576b"
             ],
             [
              0.6666666666666666,
              "#ed7953"
             ],
             [
              0.7777777777777778,
              "#fb9f3a"
             ],
             [
              0.8888888888888888,
              "#fdca26"
             ],
             [
              1,
              "#f0f921"
             ]
            ],
            "type": "heatmap"
           }
          ],
          "heatmapgl": [
           {
            "colorbar": {
             "outlinewidth": 0,
             "ticks": ""
            },
            "colorscale": [
             [
              0,
              "#0d0887"
             ],
             [
              0.1111111111111111,
              "#46039f"
             ],
             [
              0.2222222222222222,
              "#7201a8"
             ],
             [
              0.3333333333333333,
              "#9c179e"
             ],
             [
              0.4444444444444444,
              "#bd3786"
             ],
             [
              0.5555555555555556,
              "#d8576b"
             ],
             [
              0.6666666666666666,
              "#ed7953"
             ],
             [
              0.7777777777777778,
              "#fb9f3a"
             ],
             [
              0.8888888888888888,
              "#fdca26"
             ],
             [
              1,
              "#f0f921"
             ]
            ],
            "type": "heatmapgl"
           }
          ],
          "histogram": [
           {
            "marker": {
             "pattern": {
              "fillmode": "overlay",
              "size": 10,
              "solidity": 0.2
             }
            },
            "type": "histogram"
           }
          ],
          "histogram2d": [
           {
            "colorbar": {
             "outlinewidth": 0,
             "ticks": ""
            },
            "colorscale": [
             [
              0,
              "#0d0887"
             ],
             [
              0.1111111111111111,
              "#46039f"
             ],
             [
              0.2222222222222222,
              "#7201a8"
             ],
             [
              0.3333333333333333,
              "#9c179e"
             ],
             [
              0.4444444444444444,
              "#bd3786"
             ],
             [
              0.5555555555555556,
              "#d8576b"
             ],
             [
              0.6666666666666666,
              "#ed7953"
             ],
             [
              0.7777777777777778,
              "#fb9f3a"
             ],
             [
              0.8888888888888888,
              "#fdca26"
             ],
             [
              1,
              "#f0f921"
             ]
            ],
            "type": "histogram2d"
           }
          ],
          "histogram2dcontour": [
           {
            "colorbar": {
             "outlinewidth": 0,
             "ticks": ""
            },
            "colorscale": [
             [
              0,
              "#0d0887"
             ],
             [
              0.1111111111111111,
              "#46039f"
             ],
             [
              0.2222222222222222,
              "#7201a8"
             ],
             [
              0.3333333333333333,
              "#9c179e"
             ],
             [
              0.4444444444444444,
              "#bd3786"
             ],
             [
              0.5555555555555556,
              "#d8576b"
             ],
             [
              0.6666666666666666,
              "#ed7953"
             ],
             [
              0.7777777777777778,
              "#fb9f3a"
             ],
             [
              0.8888888888888888,
              "#fdca26"
             ],
             [
              1,
              "#f0f921"
             ]
            ],
            "type": "histogram2dcontour"
           }
          ],
          "mesh3d": [
           {
            "colorbar": {
             "outlinewidth": 0,
             "ticks": ""
            },
            "type": "mesh3d"
           }
          ],
          "parcoords": [
           {
            "line": {
             "colorbar": {
              "outlinewidth": 0,
              "ticks": ""
             }
            },
            "type": "parcoords"
           }
          ],
          "pie": [
           {
            "automargin": true,
            "type": "pie"
           }
          ],
          "scatter": [
           {
            "fillpattern": {
             "fillmode": "overlay",
             "size": 10,
             "solidity": 0.2
            },
            "type": "scatter"
           }
          ],
          "scatter3d": [
           {
            "line": {
             "colorbar": {
              "outlinewidth": 0,
              "ticks": ""
             }
            },
            "marker": {
             "colorbar": {
              "outlinewidth": 0,
              "ticks": ""
             }
            },
            "type": "scatter3d"
           }
          ],
          "scattercarpet": [
           {
            "marker": {
             "colorbar": {
              "outlinewidth": 0,
              "ticks": ""
             }
            },
            "type": "scattercarpet"
           }
          ],
          "scattergeo": [
           {
            "marker": {
             "colorbar": {
              "outlinewidth": 0,
              "ticks": ""
             }
            },
            "type": "scattergeo"
           }
          ],
          "scattergl": [
           {
            "marker": {
             "colorbar": {
              "outlinewidth": 0,
              "ticks": ""
             }
            },
            "type": "scattergl"
           }
          ],
          "scattermapbox": [
           {
            "marker": {
             "colorbar": {
              "outlinewidth": 0,
              "ticks": ""
             }
            },
            "type": "scattermapbox"
           }
          ],
          "scatterpolar": [
           {
            "marker": {
             "colorbar": {
              "outlinewidth": 0,
              "ticks": ""
             }
            },
            "type": "scatterpolar"
           }
          ],
          "scatterpolargl": [
           {
            "marker": {
             "colorbar": {
              "outlinewidth": 0,
              "ticks": ""
             }
            },
            "type": "scatterpolargl"
           }
          ],
          "scatterternary": [
           {
            "marker": {
             "colorbar": {
              "outlinewidth": 0,
              "ticks": ""
             }
            },
            "type": "scatterternary"
           }
          ],
          "surface": [
           {
            "colorbar": {
             "outlinewidth": 0,
             "ticks": ""
            },
            "colorscale": [
             [
              0,
              "#0d0887"
             ],
             [
              0.1111111111111111,
              "#46039f"
             ],
             [
              0.2222222222222222,
              "#7201a8"
             ],
             [
              0.3333333333333333,
              "#9c179e"
             ],
             [
              0.4444444444444444,
              "#bd3786"
             ],
             [
              0.5555555555555556,
              "#d8576b"
             ],
             [
              0.6666666666666666,
              "#ed7953"
             ],
             [
              0.7777777777777778,
              "#fb9f3a"
             ],
             [
              0.8888888888888888,
              "#fdca26"
             ],
             [
              1,
              "#f0f921"
             ]
            ],
            "type": "surface"
           }
          ],
          "table": [
           {
            "cells": {
             "fill": {
              "color": "#EBF0F8"
             },
             "line": {
              "color": "white"
             }
            },
            "header": {
             "fill": {
              "color": "#C8D4E3"
             },
             "line": {
              "color": "white"
             }
            },
            "type": "table"
           }
          ]
         },
         "layout": {
          "annotationdefaults": {
           "arrowcolor": "#2a3f5f",
           "arrowhead": 0,
           "arrowwidth": 1
          },
          "autotypenumbers": "strict",
          "coloraxis": {
           "colorbar": {
            "outlinewidth": 0,
            "ticks": ""
           }
          },
          "colorscale": {
           "diverging": [
            [
             0,
             "#8e0152"
            ],
            [
             0.1,
             "#c51b7d"
            ],
            [
             0.2,
             "#de77ae"
            ],
            [
             0.3,
             "#f1b6da"
            ],
            [
             0.4,
             "#fde0ef"
            ],
            [
             0.5,
             "#f7f7f7"
            ],
            [
             0.6,
             "#e6f5d0"
            ],
            [
             0.7,
             "#b8e186"
            ],
            [
             0.8,
             "#7fbc41"
            ],
            [
             0.9,
             "#4d9221"
            ],
            [
             1,
             "#276419"
            ]
           ],
           "sequential": [
            [
             0,
             "#0d0887"
            ],
            [
             0.1111111111111111,
             "#46039f"
            ],
            [
             0.2222222222222222,
             "#7201a8"
            ],
            [
             0.3333333333333333,
             "#9c179e"
            ],
            [
             0.4444444444444444,
             "#bd3786"
            ],
            [
             0.5555555555555556,
             "#d8576b"
            ],
            [
             0.6666666666666666,
             "#ed7953"
            ],
            [
             0.7777777777777778,
             "#fb9f3a"
            ],
            [
             0.8888888888888888,
             "#fdca26"
            ],
            [
             1,
             "#f0f921"
            ]
           ],
           "sequentialminus": [
            [
             0,
             "#0d0887"
            ],
            [
             0.1111111111111111,
             "#46039f"
            ],
            [
             0.2222222222222222,
             "#7201a8"
            ],
            [
             0.3333333333333333,
             "#9c179e"
            ],
            [
             0.4444444444444444,
             "#bd3786"
            ],
            [
             0.5555555555555556,
             "#d8576b"
            ],
            [
             0.6666666666666666,
             "#ed7953"
            ],
            [
             0.7777777777777778,
             "#fb9f3a"
            ],
            [
             0.8888888888888888,
             "#fdca26"
            ],
            [
             1,
             "#f0f921"
            ]
           ]
          },
          "colorway": [
           "#636efa",
           "#EF553B",
           "#00cc96",
           "#ab63fa",
           "#FFA15A",
           "#19d3f3",
           "#FF6692",
           "#B6E880",
           "#FF97FF",
           "#FECB52"
          ],
          "font": {
           "color": "#2a3f5f"
          },
          "geo": {
           "bgcolor": "white",
           "lakecolor": "white",
           "landcolor": "#E5ECF6",
           "showlakes": true,
           "showland": true,
           "subunitcolor": "white"
          },
          "hoverlabel": {
           "align": "left"
          },
          "hovermode": "closest",
          "mapbox": {
           "style": "light"
          },
          "paper_bgcolor": "white",
          "plot_bgcolor": "#E5ECF6",
          "polar": {
           "angularaxis": {
            "gridcolor": "white",
            "linecolor": "white",
            "ticks": ""
           },
           "bgcolor": "#E5ECF6",
           "radialaxis": {
            "gridcolor": "white",
            "linecolor": "white",
            "ticks": ""
           }
          },
          "scene": {
           "xaxis": {
            "backgroundcolor": "#E5ECF6",
            "gridcolor": "white",
            "gridwidth": 2,
            "linecolor": "white",
            "showbackground": true,
            "ticks": "",
            "zerolinecolor": "white"
           },
           "yaxis": {
            "backgroundcolor": "#E5ECF6",
            "gridcolor": "white",
            "gridwidth": 2,
            "linecolor": "white",
            "showbackground": true,
            "ticks": "",
            "zerolinecolor": "white"
           },
           "zaxis": {
            "backgroundcolor": "#E5ECF6",
            "gridcolor": "white",
            "gridwidth": 2,
            "linecolor": "white",
            "showbackground": true,
            "ticks": "",
            "zerolinecolor": "white"
           }
          },
          "shapedefaults": {
           "line": {
            "color": "#2a3f5f"
           }
          },
          "ternary": {
           "aaxis": {
            "gridcolor": "white",
            "linecolor": "white",
            "ticks": ""
           },
           "baxis": {
            "gridcolor": "white",
            "linecolor": "white",
            "ticks": ""
           },
           "bgcolor": "#E5ECF6",
           "caxis": {
            "gridcolor": "white",
            "linecolor": "white",
            "ticks": ""
           }
          },
          "title": {
           "x": 0.05
          },
          "xaxis": {
           "automargin": true,
           "gridcolor": "white",
           "linecolor": "white",
           "ticks": "",
           "title": {
            "standoff": 15
           },
           "zerolinecolor": "white",
           "zerolinewidth": 2
          },
          "yaxis": {
           "automargin": true,
           "gridcolor": "white",
           "linecolor": "white",
           "ticks": "",
           "title": {
            "standoff": 15
           },
           "zerolinecolor": "white",
           "zerolinewidth": 2
          }
         }
        },
        "title": {
         "text": "Churn (Target) Distribution"
        }
       }
      },
      "text/html": [
       "<div>                            <div id=\"636e88d2-f211-4fd4-8621-b96d43e323c7\" class=\"plotly-graph-div\" style=\"height:525px; width:100%;\"></div>            <script type=\"text/javascript\">                require([\"plotly\"], function(Plotly) {                    window.PLOTLYENV=window.PLOTLYENV || {};                                    if (document.getElementById(\"636e88d2-f211-4fd4-8621-b96d43e323c7\")) {                    Plotly.newPlot(                        \"636e88d2-f211-4fd4-8621-b96d43e323c7\",                        [{\"domain\":{\"x\":[0.0,1.0],\"y\":[0.0,1.0]},\"hovertemplate\":\"Type=%{label}<br>Churn=%{value}<extra></extra>\",\"labels\":[0,1],\"legendgroup\":\"\",\"name\":\"\",\"showlegend\":true,\"values\":[5163,1869],\"type\":\"pie\",\"textinfo\":\"percent+label\",\"textposition\":\"inside\"}],                        {\"template\":{\"data\":{\"histogram2dcontour\":[{\"type\":\"histogram2dcontour\",\"colorbar\":{\"outlinewidth\":0,\"ticks\":\"\"},\"colorscale\":[[0.0,\"#0d0887\"],[0.1111111111111111,\"#46039f\"],[0.2222222222222222,\"#7201a8\"],[0.3333333333333333,\"#9c179e\"],[0.4444444444444444,\"#bd3786\"],[0.5555555555555556,\"#d8576b\"],[0.6666666666666666,\"#ed7953\"],[0.7777777777777778,\"#fb9f3a\"],[0.8888888888888888,\"#fdca26\"],[1.0,\"#f0f921\"]]}],\"choropleth\":[{\"type\":\"choropleth\",\"colorbar\":{\"outlinewidth\":0,\"ticks\":\"\"}}],\"histogram2d\":[{\"type\":\"histogram2d\",\"colorbar\":{\"outlinewidth\":0,\"ticks\":\"\"},\"colorscale\":[[0.0,\"#0d0887\"],[0.1111111111111111,\"#46039f\"],[0.2222222222222222,\"#7201a8\"],[0.3333333333333333,\"#9c179e\"],[0.4444444444444444,\"#bd3786\"],[0.5555555555555556,\"#d8576b\"],[0.6666666666666666,\"#ed7953\"],[0.7777777777777778,\"#fb9f3a\"],[0.8888888888888888,\"#fdca26\"],[1.0,\"#f0f921\"]]}],\"heatmap\":[{\"type\":\"heatmap\",\"colorbar\":{\"outlinewidth\":0,\"ticks\":\"\"},\"colorscale\":[[0.0,\"#0d0887\"],[0.1111111111111111,\"#46039f\"],[0.2222222222222222,\"#7201a8\"],[0.3333333333333333,\"#9c179e\"],[0.4444444444444444,\"#bd3786\"],[0.5555555555555556,\"#d8576b\"],[0.6666666666666666,\"#ed7953\"],[0.7777777777777778,\"#fb9f3a\"],[0.8888888888888888,\"#fdca26\"],[1.0,\"#f0f921\"]]}],\"heatmapgl\":[{\"type\":\"heatmapgl\",\"colorbar\":{\"outlinewidth\":0,\"ticks\":\"\"},\"colorscale\":[[0.0,\"#0d0887\"],[0.1111111111111111,\"#46039f\"],[0.2222222222222222,\"#7201a8\"],[0.3333333333333333,\"#9c179e\"],[0.4444444444444444,\"#bd3786\"],[0.5555555555555556,\"#d8576b\"],[0.6666666666666666,\"#ed7953\"],[0.7777777777777778,\"#fb9f3a\"],[0.8888888888888888,\"#fdca26\"],[1.0,\"#f0f921\"]]}],\"contourcarpet\":[{\"type\":\"contourcarpet\",\"colorbar\":{\"outlinewidth\":0,\"ticks\":\"\"}}],\"contour\":[{\"type\":\"contour\",\"colorbar\":{\"outlinewidth\":0,\"ticks\":\"\"},\"colorscale\":[[0.0,\"#0d0887\"],[0.1111111111111111,\"#46039f\"],[0.2222222222222222,\"#7201a8\"],[0.3333333333333333,\"#9c179e\"],[0.4444444444444444,\"#bd3786\"],[0.5555555555555556,\"#d8576b\"],[0.6666666666666666,\"#ed7953\"],[0.7777777777777778,\"#fb9f3a\"],[0.8888888888888888,\"#fdca26\"],[1.0,\"#f0f921\"]]}],\"surface\":[{\"type\":\"surface\",\"colorbar\":{\"outlinewidth\":0,\"ticks\":\"\"},\"colorscale\":[[0.0,\"#0d0887\"],[0.1111111111111111,\"#46039f\"],[0.2222222222222222,\"#7201a8\"],[0.3333333333333333,\"#9c179e\"],[0.4444444444444444,\"#bd3786\"],[0.5555555555555556,\"#d8576b\"],[0.6666666666666666,\"#ed7953\"],[0.7777777777777778,\"#fb9f3a\"],[0.8888888888888888,\"#fdca26\"],[1.0,\"#f0f921\"]]}],\"mesh3d\":[{\"type\":\"mesh3d\",\"colorbar\":{\"outlinewidth\":0,\"ticks\":\"\"}}],\"scatter\":[{\"fillpattern\":{\"fillmode\":\"overlay\",\"size\":10,\"solidity\":0.2},\"type\":\"scatter\"}],\"parcoords\":[{\"type\":\"parcoords\",\"line\":{\"colorbar\":{\"outlinewidth\":0,\"ticks\":\"\"}}}],\"scatterpolargl\":[{\"type\":\"scatterpolargl\",\"marker\":{\"colorbar\":{\"outlinewidth\":0,\"ticks\":\"\"}}}],\"bar\":[{\"error_x\":{\"color\":\"#2a3f5f\"},\"error_y\":{\"color\":\"#2a3f5f\"},\"marker\":{\"line\":{\"color\":\"#E5ECF6\",\"width\":0.5},\"pattern\":{\"fillmode\":\"overlay\",\"size\":10,\"solidity\":0.2}},\"type\":\"bar\"}],\"scattergeo\":[{\"type\":\"scattergeo\",\"marker\":{\"colorbar\":{\"outlinewidth\":0,\"ticks\":\"\"}}}],\"scatterpolar\":[{\"type\":\"scatterpolar\",\"marker\":{\"colorbar\":{\"outlinewidth\":0,\"ticks\":\"\"}}}],\"histogram\":[{\"marker\":{\"pattern\":{\"fillmode\":\"overlay\",\"size\":10,\"solidity\":0.2}},\"type\":\"histogram\"}],\"scattergl\":[{\"type\":\"scattergl\",\"marker\":{\"colorbar\":{\"outlinewidth\":0,\"ticks\":\"\"}}}],\"scatter3d\":[{\"type\":\"scatter3d\",\"line\":{\"colorbar\":{\"outlinewidth\":0,\"ticks\":\"\"}},\"marker\":{\"colorbar\":{\"outlinewidth\":0,\"ticks\":\"\"}}}],\"scattermapbox\":[{\"type\":\"scattermapbox\",\"marker\":{\"colorbar\":{\"outlinewidth\":0,\"ticks\":\"\"}}}],\"scatterternary\":[{\"type\":\"scatterternary\",\"marker\":{\"colorbar\":{\"outlinewidth\":0,\"ticks\":\"\"}}}],\"scattercarpet\":[{\"type\":\"scattercarpet\",\"marker\":{\"colorbar\":{\"outlinewidth\":0,\"ticks\":\"\"}}}],\"carpet\":[{\"aaxis\":{\"endlinecolor\":\"#2a3f5f\",\"gridcolor\":\"white\",\"linecolor\":\"white\",\"minorgridcolor\":\"white\",\"startlinecolor\":\"#2a3f5f\"},\"baxis\":{\"endlinecolor\":\"#2a3f5f\",\"gridcolor\":\"white\",\"linecolor\":\"white\",\"minorgridcolor\":\"white\",\"startlinecolor\":\"#2a3f5f\"},\"type\":\"carpet\"}],\"table\":[{\"cells\":{\"fill\":{\"color\":\"#EBF0F8\"},\"line\":{\"color\":\"white\"}},\"header\":{\"fill\":{\"color\":\"#C8D4E3\"},\"line\":{\"color\":\"white\"}},\"type\":\"table\"}],\"barpolar\":[{\"marker\":{\"line\":{\"color\":\"#E5ECF6\",\"width\":0.5},\"pattern\":{\"fillmode\":\"overlay\",\"size\":10,\"solidity\":0.2}},\"type\":\"barpolar\"}],\"pie\":[{\"automargin\":true,\"type\":\"pie\"}]},\"layout\":{\"autotypenumbers\":\"strict\",\"colorway\":[\"#636efa\",\"#EF553B\",\"#00cc96\",\"#ab63fa\",\"#FFA15A\",\"#19d3f3\",\"#FF6692\",\"#B6E880\",\"#FF97FF\",\"#FECB52\"],\"font\":{\"color\":\"#2a3f5f\"},\"hovermode\":\"closest\",\"hoverlabel\":{\"align\":\"left\"},\"paper_bgcolor\":\"white\",\"plot_bgcolor\":\"#E5ECF6\",\"polar\":{\"bgcolor\":\"#E5ECF6\",\"angularaxis\":{\"gridcolor\":\"white\",\"linecolor\":\"white\",\"ticks\":\"\"},\"radialaxis\":{\"gridcolor\":\"white\",\"linecolor\":\"white\",\"ticks\":\"\"}},\"ternary\":{\"bgcolor\":\"#E5ECF6\",\"aaxis\":{\"gridcolor\":\"white\",\"linecolor\":\"white\",\"ticks\":\"\"},\"baxis\":{\"gridcolor\":\"white\",\"linecolor\":\"white\",\"ticks\":\"\"},\"caxis\":{\"gridcolor\":\"white\",\"linecolor\":\"white\",\"ticks\":\"\"}},\"coloraxis\":{\"colorbar\":{\"outlinewidth\":0,\"ticks\":\"\"}},\"colorscale\":{\"sequential\":[[0.0,\"#0d0887\"],[0.1111111111111111,\"#46039f\"],[0.2222222222222222,\"#7201a8\"],[0.3333333333333333,\"#9c179e\"],[0.4444444444444444,\"#bd3786\"],[0.5555555555555556,\"#d8576b\"],[0.6666666666666666,\"#ed7953\"],[0.7777777777777778,\"#fb9f3a\"],[0.8888888888888888,\"#fdca26\"],[1.0,\"#f0f921\"]],\"sequentialminus\":[[0.0,\"#0d0887\"],[0.1111111111111111,\"#46039f\"],[0.2222222222222222,\"#7201a8\"],[0.3333333333333333,\"#9c179e\"],[0.4444444444444444,\"#bd3786\"],[0.5555555555555556,\"#d8576b\"],[0.6666666666666666,\"#ed7953\"],[0.7777777777777778,\"#fb9f3a\"],[0.8888888888888888,\"#fdca26\"],[1.0,\"#f0f921\"]],\"diverging\":[[0,\"#8e0152\"],[0.1,\"#c51b7d\"],[0.2,\"#de77ae\"],[0.3,\"#f1b6da\"],[0.4,\"#fde0ef\"],[0.5,\"#f7f7f7\"],[0.6,\"#e6f5d0\"],[0.7,\"#b8e186\"],[0.8,\"#7fbc41\"],[0.9,\"#4d9221\"],[1,\"#276419\"]]},\"xaxis\":{\"gridcolor\":\"white\",\"linecolor\":\"white\",\"ticks\":\"\",\"title\":{\"standoff\":15},\"zerolinecolor\":\"white\",\"automargin\":true,\"zerolinewidth\":2},\"yaxis\":{\"gridcolor\":\"white\",\"linecolor\":\"white\",\"ticks\":\"\",\"title\":{\"standoff\":15},\"zerolinecolor\":\"white\",\"automargin\":true,\"zerolinewidth\":2},\"scene\":{\"xaxis\":{\"backgroundcolor\":\"#E5ECF6\",\"gridcolor\":\"white\",\"linecolor\":\"white\",\"showbackground\":true,\"ticks\":\"\",\"zerolinecolor\":\"white\",\"gridwidth\":2},\"yaxis\":{\"backgroundcolor\":\"#E5ECF6\",\"gridcolor\":\"white\",\"linecolor\":\"white\",\"showbackground\":true,\"ticks\":\"\",\"zerolinecolor\":\"white\",\"gridwidth\":2},\"zaxis\":{\"backgroundcolor\":\"#E5ECF6\",\"gridcolor\":\"white\",\"linecolor\":\"white\",\"showbackground\":true,\"ticks\":\"\",\"zerolinecolor\":\"white\",\"gridwidth\":2}},\"shapedefaults\":{\"line\":{\"color\":\"#2a3f5f\"}},\"annotationdefaults\":{\"arrowcolor\":\"#2a3f5f\",\"arrowhead\":0,\"arrowwidth\":1},\"geo\":{\"bgcolor\":\"white\",\"landcolor\":\"#E5ECF6\",\"subunitcolor\":\"white\",\"showland\":true,\"showlakes\":true,\"lakecolor\":\"white\"},\"title\":{\"x\":0.05},\"mapbox\":{\"style\":\"light\"}}},\"legend\":{\"tracegroupgap\":0},\"title\":{\"text\":\"Churn (Target) Distribution\"}},                        {\"responsive\": true}                    ).then(function(){\n",
       "                            \n",
       "var gd = document.getElementById('636e88d2-f211-4fd4-8621-b96d43e323c7');\n",
       "var x = new MutationObserver(function (mutations, observer) {{\n",
       "        var display = window.getComputedStyle(gd).display;\n",
       "        if (!display || display === 'none') {{\n",
       "            console.log([gd, 'removed!']);\n",
       "            Plotly.purge(gd);\n",
       "            observer.disconnect();\n",
       "        }}\n",
       "}});\n",
       "\n",
       "// Listen for the removal of the full notebook cells\n",
       "var notebookContainer = gd.closest('#notebook-container');\n",
       "if (notebookContainer) {{\n",
       "    x.observe(notebookContainer, {childList: true});\n",
       "}}\n",
       "\n",
       "// Listen for the clearing of the current output cell\n",
       "var outputEl = gd.closest('.output');\n",
       "if (outputEl) {{\n",
       "    x.observe(outputEl, {childList: true});\n",
       "}}\n",
       "\n",
       "                        })                };                });            </script>        </div>"
      ]
     },
     "metadata": {},
     "output_type": "display_data"
    },
    {
     "data": {
      "text/markdown": [
       "### Target distribution is Imbalanced"
      ],
      "text/plain": [
       "<IPython.core.display.Markdown object>"
      ]
     },
     "metadata": {},
     "output_type": "display_data"
    }
   ],
   "source": [
    "fig = px.pie(df['Churn'].value_counts().reset_index().rename(columns={'index':'Type'}), values='Churn', names='Type', title='Churn (Target) Distribution')\n",
    "fig.update_traces(textposition='inside', textinfo='percent+label')\n",
    "fig.show()\n",
    "printmd(\"### Target distribution is Imbalanced\")"
   ]
  },
  {
   "cell_type": "code",
   "execution_count": null,
   "id": "cbbeb020-8026-4262-bc6e-a5c0aa86872f",
   "metadata": {},
   "outputs": [],
   "source": []
  },
  {
   "cell_type": "code",
   "execution_count": null,
   "id": "84141ae3-1bfc-4cba-a406-92f61b902522",
   "metadata": {},
   "outputs": [],
   "source": []
  },
  {
   "cell_type": "code",
   "execution_count": null,
   "id": "21349f42-3821-450e-b4b3-252da2328a8d",
   "metadata": {},
   "outputs": [],
   "source": []
  },
  {
   "cell_type": "code",
   "execution_count": null,
   "id": "f3e422a7-38dc-419a-845b-0ef30ba22473",
   "metadata": {},
   "outputs": [],
   "source": []
  },
  {
   "cell_type": "code",
   "execution_count": null,
   "id": "c988133e-e1aa-4377-884b-ab245a417dc0",
   "metadata": {},
   "outputs": [],
   "source": []
  },
  {
   "cell_type": "code",
   "execution_count": null,
   "id": "8122ff61-0d09-4b5d-9fdc-4810e00316b2",
   "metadata": {},
   "outputs": [],
   "source": []
  },
  {
   "cell_type": "code",
   "execution_count": null,
   "id": "dca57172-4af1-4ad1-a68b-1c85b0467ae9",
   "metadata": {},
   "outputs": [],
   "source": []
  },
  {
   "cell_type": "code",
   "execution_count": null,
   "id": "d4dd8d62-cecc-439d-996d-17cd595383dd",
   "metadata": {},
   "outputs": [],
   "source": []
  },
  {
   "cell_type": "code",
   "execution_count": null,
   "id": "66ea0353-244b-46cb-bfda-2a6b2e644182",
   "metadata": {},
   "outputs": [],
   "source": []
  },
  {
   "cell_type": "code",
   "execution_count": null,
   "id": "c1fd97bd-c93a-41d7-adb8-09d67b058136",
   "metadata": {},
   "outputs": [],
   "source": []
  },
  {
   "cell_type": "code",
   "execution_count": 76,
   "id": "2c8d3d2b-327b-434e-a347-30f5bf5cc50f",
   "metadata": {
    "tags": []
   },
   "outputs": [],
   "source": [
    "def target_summary_with_cat(dataframe, target, categorical_col):\n",
    "    print(categorical_col)\n",
    "    print(pd.DataFrame({\"TARGET_MEAN\": dataframe.groupby(categorical_col)[target].mean(),\n",
    "                        \"Count\": dataframe[categorical_col].value_counts(),\n",
    "                        \"Ratio\": 100 * dataframe[categorical_col].value_counts() / len(dataframe)}), end=\"\\n\\n\\n\")"
   ]
  },
  {
   "cell_type": "code",
   "execution_count": 77,
   "id": "876c043c-13f9-4c6e-9522-f5e3c91ffcae",
   "metadata": {
    "scrolled": true,
    "tags": []
   },
   "outputs": [
    {
     "name": "stdout",
     "output_type": "stream",
     "text": [
      "OnlineBackup\n",
      "                     TARGET_MEAN  Count      Ratio\n",
      "No                      0.399417   3087  43.899317\n",
      "No internet service     0.074342   1520  21.615472\n",
      "Yes                     0.215670   2425  34.485210\n",
      "\n",
      "\n",
      "TechSupport\n",
      "                     TARGET_MEAN  Count      Ratio\n",
      "No                      0.416475   3472  49.374289\n",
      "No internet service     0.074342   1520  21.615472\n",
      "Yes                     0.151961   2040  29.010239\n",
      "\n",
      "\n",
      "Partner\n",
      "     TARGET_MEAN  Count      Ratio\n",
      "No      0.329761   3639  51.749147\n",
      "Yes     0.197171   3393  48.250853\n",
      "\n",
      "\n",
      "Dependents\n",
      "     TARGET_MEAN  Count      Ratio\n",
      "No      0.312791   4933  70.150739\n",
      "Yes     0.155312   2099  29.849261\n",
      "\n",
      "\n",
      "OnlineSecurity\n",
      "                     TARGET_MEAN  Count      Ratio\n",
      "No                      0.417787   3497  49.729807\n",
      "No internet service     0.074342   1520  21.615472\n",
      "Yes                     0.146402   2015  28.654721\n",
      "\n",
      "\n",
      "PhoneService\n",
      "     TARGET_MEAN  Count     Ratio\n",
      "No      0.250000    680   9.67008\n",
      "Yes     0.267475   6352  90.32992\n",
      "\n",
      "\n",
      "InternetService\n",
      "             TARGET_MEAN  Count      Ratio\n",
      "DSL             0.189983   2416  34.357224\n",
      "Fiber optic     0.418928   3096  44.027304\n",
      "No              0.074342   1520  21.615472\n",
      "\n",
      "\n",
      "gender\n",
      "        TARGET_MEAN  Count      Ratio\n",
      "Female     0.269595   3483  49.530717\n",
      "Male       0.262046   3549  50.469283\n",
      "\n",
      "\n",
      "DeviceProtection\n",
      "                     TARGET_MEAN  Count      Ratio\n",
      "No                      0.391403   3094  43.998862\n",
      "No internet service     0.074342   1520  21.615472\n",
      "Yes                     0.225393   2418  34.385666\n",
      "\n",
      "\n",
      "MultipleLines\n",
      "                  TARGET_MEAN  Count      Ratio\n",
      "No                   0.250812   3385  48.137088\n",
      "No phone service     0.250000    680   9.670080\n",
      "Yes                  0.286485   2967  42.192833\n",
      "\n",
      "\n",
      "StreamingTV\n",
      "                     TARGET_MEAN  Count      Ratio\n",
      "No                      0.335351   2809  39.945961\n",
      "No internet service     0.074342   1520  21.615472\n",
      "Yes                     0.301147   2703  38.438567\n",
      "\n",
      "\n",
      "PaperlessBilling\n",
      "     TARGET_MEAN  Count    Ratio\n",
      "No      0.163757   2864  40.7281\n",
      "Yes     0.335893   4168  59.2719\n",
      "\n",
      "\n",
      "StreamingMovies\n",
      "                     TARGET_MEAN  Count      Ratio\n",
      "No                      0.337289   2781  39.547782\n",
      "No internet service     0.074342   1520  21.615472\n",
      "Yes                     0.299524   2731  38.836746\n",
      "\n",
      "\n",
      "PaymentMethod\n",
      "                           TARGET_MEAN  Count      Ratio\n",
      "Bank transfer (automatic)     0.167315   1542  21.928328\n",
      "Credit card (automatic)       0.152531   1521  21.629693\n",
      "Electronic check              0.452854   2365  33.631968\n",
      "Mailed check                  0.192020   1604  22.810011\n",
      "\n",
      "\n",
      "Contract\n",
      "                TARGET_MEAN  Count      Ratio\n",
      "Month-to-month     0.427097   3875  55.105233\n",
      "One year           0.112772   1472  20.932878\n",
      "Two year           0.028487   1685  23.961889\n",
      "\n",
      "\n"
     ]
    }
   ],
   "source": [
    "for col in cat_cols:\n",
    "    target_summary_with_cat(df, \"Churn\", col)"
   ]
  },
  {
   "cell_type": "code",
   "execution_count": 78,
   "id": "f7bbd708-25ab-4d83-9456-27017aa6bcd2",
   "metadata": {
    "tags": []
   },
   "outputs": [
    {
     "data": {
      "text/html": [
       "<div>\n",
       "<style scoped>\n",
       "    .dataframe tbody tr th:only-of-type {\n",
       "        vertical-align: middle;\n",
       "    }\n",
       "\n",
       "    .dataframe tbody tr th {\n",
       "        vertical-align: top;\n",
       "    }\n",
       "\n",
       "    .dataframe thead th {\n",
       "        text-align: right;\n",
       "    }\n",
       "</style>\n",
       "<table border=\"1\" class=\"dataframe\">\n",
       "  <thead>\n",
       "    <tr style=\"text-align: right;\">\n",
       "      <th></th>\n",
       "      <th>tenure</th>\n",
       "      <th>MonthlyCharges</th>\n",
       "      <th>TotalCharges</th>\n",
       "      <th>Churn</th>\n",
       "    </tr>\n",
       "  </thead>\n",
       "  <tbody>\n",
       "    <tr>\n",
       "      <th>tenure</th>\n",
       "      <td>1.000000</td>\n",
       "      <td>0.246862</td>\n",
       "      <td>0.825880</td>\n",
       "      <td>-0.354049</td>\n",
       "    </tr>\n",
       "    <tr>\n",
       "      <th>MonthlyCharges</th>\n",
       "      <td>0.246862</td>\n",
       "      <td>1.000000</td>\n",
       "      <td>0.651065</td>\n",
       "      <td>0.192858</td>\n",
       "    </tr>\n",
       "    <tr>\n",
       "      <th>TotalCharges</th>\n",
       "      <td>0.825880</td>\n",
       "      <td>0.651065</td>\n",
       "      <td>1.000000</td>\n",
       "      <td>-0.199484</td>\n",
       "    </tr>\n",
       "    <tr>\n",
       "      <th>Churn</th>\n",
       "      <td>-0.354049</td>\n",
       "      <td>0.192858</td>\n",
       "      <td>-0.199484</td>\n",
       "      <td>1.000000</td>\n",
       "    </tr>\n",
       "  </tbody>\n",
       "</table>\n",
       "</div>"
      ],
      "text/plain": [
       "                  tenure  MonthlyCharges  TotalCharges     Churn\n",
       "tenure          1.000000        0.246862      0.825880 -0.354049\n",
       "MonthlyCharges  0.246862        1.000000      0.651065  0.192858\n",
       "TotalCharges    0.825880        0.651065      1.000000 -0.199484\n",
       "Churn          -0.354049        0.192858     -0.199484  1.000000"
      ]
     },
     "execution_count": 78,
     "metadata": {},
     "output_type": "execute_result"
    }
   ],
   "source": [
    "df[num_cols].corr()"
   ]
  },
  {
   "cell_type": "code",
   "execution_count": 79,
   "id": "65ec3bda-5440-4d05-abd5-00643b5982ff",
   "metadata": {
    "tags": []
   },
   "outputs": [
    {
     "data": {
      "text/plain": [
       "Churn             1.000000\n",
       "MonthlyCharges    0.192858\n",
       "SeniorCitizen     0.150541\n",
       "TotalCharges     -0.199484\n",
       "tenure           -0.354049\n",
       "dtype: float64"
      ]
     },
     "execution_count": 79,
     "metadata": {},
     "output_type": "execute_result"
    }
   ],
   "source": [
    "df.corrwith(df[\"Churn\"]).sort_values(ascending=False)"
   ]
  },
  {
   "cell_type": "code",
   "execution_count": 80,
   "id": "73a175c2-c627-40c5-934d-a080f98fb556",
   "metadata": {
    "tags": []
   },
   "outputs": [],
   "source": [
    "def correlation_matrix(df, cols):\n",
    "    fig = plt.gcf()\n",
    "    fig.set_size_inches(12, 10)\n",
    "    plt.xticks(fontsize=10)\n",
    "    plt.yticks(fontsize=10)\n",
    "    fig = sns.heatmap(df[cols].corr(), annot=True, linewidths=0.5, annot_kws={'size': 12}, linecolor='w', cmap='RdBu')\n",
    "    plt.show(block=True)"
   ]
  },
  {
   "cell_type": "code",
   "execution_count": 81,
   "id": "fd9f07a8-ec56-44d6-a357-d1ce6f2b6a86",
   "metadata": {
    "tags": []
   },
   "outputs": [
    {
     "data": {
      "image/png": "[encoded data removed]",
      "text/plain": [
       "<Figure size 1200x1000 with 2 Axes>"
      ]
     },
     "metadata": {},
     "output_type": "display_data"
    }
   ],
   "source": [
    "correlation_matrix(df, df.columns)"
   ]
  },
  {
   "cell_type": "markdown",
   "id": "7cda0a07-d0f0-443c-bc07-efc3b31444f4",
   "metadata": {},
   "source": [
    "### 3.Data Preprocessing & Feature Engineering"
   ]
  },
  {
   "cell_type": "code",
   "execution_count": 82,
   "id": "96294080-4059-4c07-835f-54ca750420bb",
   "metadata": {
    "tags": []
   },
   "outputs": [],
   "source": [
    "def outlier_thresholds(dataframe, col_name, q1=0.05, q3=0.95):\n",
    "    quartile1 = dataframe[col_name].quantile(q1)\n",
    "    quartile3 = dataframe[col_name].quantile(q3)\n",
    "    interquantile_range = quartile3 - quartile1\n",
    "    up_limit = quartile3 + 1.5 * interquantile_range\n",
    "    low_limit = quartile1 - 1.5 * interquantile_range\n",
    "    return low_limit, up_limit"
   ]
  },
  {
   "cell_type": "code",
   "execution_count": 83,
   "id": "90fdf9c0-bf74-4044-b27d-ddd545adb8a3",
   "metadata": {
    "tags": []
   },
   "outputs": [],
   "source": [
    "def replace_with_thresholds(dataframe, variable, q1=0.05, q3=0.95):\n",
    "    low_limit, up_limit = outlier_thresholds(dataframe, variable, q1=0.05, q3=0.95)\n",
    "    dataframe.loc[(dataframe[variable] < low_limit), variable] = low_limit\n",
    "    dataframe.loc[(dataframe[variable] > up_limit), variable] = up_limit"
   ]
  },
  {
   "cell_type": "code",
   "execution_count": 84,
   "id": "8f0d5d1d-cd56-43c1-b139-7651bf4b013d",
   "metadata": {
    "tags": []
   },
   "outputs": [],
   "source": [
    "def check_outlier(dataframe, col_name):\n",
    "    low_limit, up_limit = outlier_thresholds(dataframe, col_name)\n",
    "    if dataframe[(dataframe[col_name] > up_limit) | (dataframe[col_name] < low_limit)].any(axis=None):\n",
    "        return True\n",
    "    else:\n",
    "        return False"
   ]
  },
  {
   "cell_type": "code",
   "execution_count": 85,
   "id": "31d8da3f-95d7-4b6f-8dbc-26e3a0d97396",
   "metadata": {
    "tags": []
   },
   "outputs": [
    {
     "name": "stdout",
     "output_type": "stream",
     "text": [
      "tenure False\n",
      "MonthlyCharges False\n",
      "TotalCharges False\n",
      "Churn False\n"
     ]
    }
   ],
   "source": [
    "for col in num_cols:\n",
    "    print(col, check_outlier(df, col))\n",
    "   "
   ]
  },
  {
   "cell_type": "code",
   "execution_count": null,
   "id": "918d42c8-3a05-43d6-a6a5-533e6680d28c",
   "metadata": {},
   "outputs": [],
   "source": []
  },
  {
   "cell_type": "code",
   "execution_count": null,
   "id": "96247cee-4d98-477a-bdff-9342b4ce50eb",
   "metadata": {},
   "outputs": [],
   "source": []
  }
 ],
 "metadata": {
  "kernelspec": {
   "display_name": "Python 3 (ipykernel)",
   "language": "python",
   "name": "python3"
  },
  "language_info": {
   "codemirror_mode": {
    "name": "ipython",
    "version": 3
   },
   "file_extension": ".py",
   "mimetype": "text/x-python",
   "name": "python",
   "nbconvert_exporter": "python",
   "pygments_lexer": "ipython3",
   "version": "3.10.9"
  }
 },
 "nbformat": 4,
 "nbformat_minor": 5
}
